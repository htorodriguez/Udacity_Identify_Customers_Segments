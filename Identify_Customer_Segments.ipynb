{
 "cells": [
  {
   "cell_type": "markdown",
   "metadata": {},
   "source": [
    "# Project: Identify Customer Segments\n",
    "\n",
    "In this project, you will apply unsupervised learning techniques to identify segments of the population that form the core customer base for a mail-order sales company in Germany. These segments can then be used to direct marketing campaigns towards audiences that will have the highest expected rate of returns. The data that you will use has been provided by our partners at Bertelsmann Arvato Analytics, and represents a real-life data science task.\n",
    "\n",
    "This notebook will help you complete this task by providing a framework within which you will perform your analysis steps. In each step of the project, you will see some text describing the subtask that you will perform, followed by one or more code cells for you to complete your work. **Feel free to add additional code and markdown cells as you go along so that you can explore everything in precise chunks.** The code cells provided in the base template will outline only the major tasks, and will usually not be enough to cover all of the minor tasks that comprise it.\n",
    "\n",
    "It should be noted that while there will be precise guidelines on how you should handle certain tasks in the project, there will also be places where an exact specification is not provided. **There will be times in the project where you will need to make and justify your own decisions on how to treat the data.** These are places where there may not be only one way to handle the data. In real-life tasks, there may be many valid ways to approach an analysis task. One of the most important things you can do is clearly document your approach so that other scientists can understand the decisions you've made.\n",
    "\n",
    "At the end of most sections, there will be a Markdown cell labeled **Discussion**. In these cells, you will report your findings for the completed section, as well as document the decisions that you made in your approach to each subtask. **Your project will be evaluated not just on the code used to complete the tasks outlined, but also your communication about your observations and conclusions at each stage.**"
   ]
  },
  {
   "cell_type": "code",
   "execution_count": 1,
   "metadata": {},
   "outputs": [],
   "source": [
    "# import libraries here; add more as necessary\n",
    "import numpy as np\n",
    "import pandas as pd\n",
    "import matplotlib.pyplot as plt\n",
    "import seaborn as sns\n",
    "import time\n",
    "\n",
    "# magic word for producing visualizations in notebook\n",
    "%matplotlib inline"
   ]
  },
  {
   "cell_type": "markdown",
   "metadata": {},
   "source": [
    "### Step 0: Load the Data\n",
    "\n",
    "There are four files associated with this project (not including this one):\n",
    "\n",
    "- `Udacity_AZDIAS_Subset.csv`: Demographics data for the general population of Germany; 891211 persons (rows) x 85 features (columns).\n",
    "- `Udacity_CUSTOMERS_Subset.csv`: Demographics data for customers of a mail-order company; 191652 persons (rows) x 85 features (columns).\n",
    "- `Data_Dictionary.md`: Detailed information file about the features in the provided datasets.\n",
    "- `AZDIAS_Feature_Summary.csv`: Summary of feature attributes for demographics data; 85 features (rows) x 4 columns\n",
    "\n",
    "Each row of the demographics files represents a single person, but also includes information outside of individuals, including information about their household, building, and neighborhood. You will use this information to cluster the general population into groups with similar demographic properties. Then, you will see how the people in the customers dataset fit into those created clusters. The hope here is that certain clusters are over-represented in the customers data, as compared to the general population; those over-represented clusters will be assumed to be part of the core userbase. This information can then be used for further applications, such as targeting for a marketing campaign.\n",
    "\n",
    "To start off with, load in the demographics data for the general population into a pandas DataFrame, and do the same for the feature attributes summary. Note for all of the `.csv` data files in this project: they're semicolon (`;`) delimited, so you'll need an additional argument in your [`read_csv()`](https://pandas.pydata.org/pandas-docs/stable/generated/pandas.read_csv.html) call to read in the data properly. Also, considering the size of the main dataset, it may take some time for it to load completely.\n",
    "\n",
    "Once the dataset is loaded, it's recommended that you take a little bit of time just browsing the general structure of the dataset and feature summary file. You'll be getting deep into the innards of the cleaning in the first major step of the project, so gaining some general familiarity can help you get your bearings."
   ]
  },
  {
   "cell_type": "code",
   "execution_count": 2,
   "metadata": {},
   "outputs": [],
   "source": [
    "# Load in the general demographics data.\n",
    "azdias = pd.read_csv('Udacity_AZDIAS_Subset.csv', sep=';')\n"
   ]
  },
  {
   "cell_type": "code",
   "execution_count": 3,
   "metadata": {},
   "outputs": [],
   "source": [
    "# Load in the feature summary file.\n",
    "feat_info = pd.read_csv('AZDIAS_Feature_Summary.csv', sep=';')"
   ]
  },
  {
   "cell_type": "code",
   "execution_count": 4,
   "metadata": {},
   "outputs": [
    {
     "data": {
      "text/plain": [
       "(891221, 85)"
      ]
     },
     "execution_count": 4,
     "metadata": {},
     "output_type": "execute_result"
    }
   ],
   "source": [
    "azdias.shape"
   ]
  },
  {
   "cell_type": "code",
   "execution_count": 5,
   "metadata": {},
   "outputs": [],
   "source": [
    "azdias_na_rows=azdias.isna().any(axis=1).sum()"
   ]
  },
  {
   "cell_type": "code",
   "execution_count": 6,
   "metadata": {},
   "outputs": [
    {
     "data": {
      "text/html": [
       "<div>\n",
       "<style scoped>\n",
       "    .dataframe tbody tr th:only-of-type {\n",
       "        vertical-align: middle;\n",
       "    }\n",
       "\n",
       "    .dataframe tbody tr th {\n",
       "        vertical-align: top;\n",
       "    }\n",
       "\n",
       "    .dataframe thead th {\n",
       "        text-align: right;\n",
       "    }\n",
       "</style>\n",
       "<table border=\"1\" class=\"dataframe\">\n",
       "  <thead>\n",
       "    <tr style=\"text-align: right;\">\n",
       "      <th></th>\n",
       "      <th>attribute</th>\n",
       "      <th>information_level</th>\n",
       "      <th>type</th>\n",
       "      <th>missing_or_unknown</th>\n",
       "    </tr>\n",
       "  </thead>\n",
       "  <tbody>\n",
       "    <tr>\n",
       "      <th>0</th>\n",
       "      <td>AGER_TYP</td>\n",
       "      <td>person</td>\n",
       "      <td>categorical</td>\n",
       "      <td>[-1,0]</td>\n",
       "    </tr>\n",
       "    <tr>\n",
       "      <th>1</th>\n",
       "      <td>ALTERSKATEGORIE_GROB</td>\n",
       "      <td>person</td>\n",
       "      <td>ordinal</td>\n",
       "      <td>[-1,0,9]</td>\n",
       "    </tr>\n",
       "    <tr>\n",
       "      <th>2</th>\n",
       "      <td>ANREDE_KZ</td>\n",
       "      <td>person</td>\n",
       "      <td>categorical</td>\n",
       "      <td>[-1,0]</td>\n",
       "    </tr>\n",
       "  </tbody>\n",
       "</table>\n",
       "</div>"
      ],
      "text/plain": [
       "              attribute information_level         type missing_or_unknown\n",
       "0              AGER_TYP            person  categorical             [-1,0]\n",
       "1  ALTERSKATEGORIE_GROB            person      ordinal           [-1,0,9]\n",
       "2             ANREDE_KZ            person  categorical             [-1,0]"
      ]
     },
     "execution_count": 6,
     "metadata": {},
     "output_type": "execute_result"
    }
   ],
   "source": [
    "feat_info.head(3)"
   ]
  },
  {
   "cell_type": "markdown",
   "metadata": {},
   "source": [
    "> **Tip**: Add additional cells to keep everything in reasonably-sized chunks! Keyboard shortcut `esc --> a` (press escape to enter command mode, then press the 'A' key) adds a new cell before the active cell, and `esc --> b` adds a new cell after the active cell. If you need to convert an active cell to a markdown cell, use `esc --> m` and to convert to a code cell, use `esc --> y`. \n",
    "\n",
    "## Step 1: Preprocessing\n",
    "\n",
    "### Step 1.1: Assess Missing Data\n",
    "\n",
    "The feature summary file contains a summary of properties for each demographics data column. You will use this file to help you make cleaning decisions during this stage of the project. First of all, you should assess the demographics data in terms of missing data. Pay attention to the following points as you perform your analysis, and take notes on what you observe. Make sure that you fill in the **Discussion** cell with your findings and decisions at the end of each step that has one!\n",
    "\n",
    "#### Step 1.1.1: Convert Missing Value Codes to NaNs\n",
    "The fourth column of the feature attributes summary (loaded in above as `feat_info`) documents the codes from the data dictionary that indicate missing or unknown data. While the file encodes this as a list (e.g. `[-1,0]`), this will get read in as a string object. You'll need to do a little bit of parsing to make use of it to identify and clean the data. Convert data that matches a 'missing' or 'unknown' value code into a numpy NaN value. You might want to see how much data takes on a 'missing' or 'unknown' code, and how much data is naturally missing, as a point of interest.\n",
    "\n",
    "**As one more reminder, you are encouraged to add additional cells to break up your analysis into manageable chunks.**"
   ]
  },
  {
   "cell_type": "code",
   "execution_count": 7,
   "metadata": {
    "scrolled": true
   },
   "outputs": [
    {
     "name": "stdout",
     "output_type": "stream",
     "text": [
      "total time for na conversion 61.84 sec\n"
     ]
    }
   ],
   "source": [
    "# Identify missing or unknown data values and convert them to NaNs.\n",
    "\n",
    "def introduce_nas(azdias):\n",
    "    for col in azdias.columns:\n",
    "        missing_code=feat_info[feat_info['attribute']==col]['missing_or_unknown'].values[0]\n",
    "        missing_code=str.split(missing_code.replace('[', '').replace(']', ''), sep=',')\n",
    "        missing_code.append('666')\n",
    "        def f(x): \n",
    "            if str(x) in missing_code:\n",
    "                return (np.NaN)\n",
    "            else:\n",
    "                return (x)\n",
    "        azdias[col]=azdias[col].fillna(666).astype(int, errors='ignore')\n",
    "        azdias[col]=azdias[col].map(f)#\n",
    "    return(azdias)\n",
    "\n",
    "\n",
    "start_time=time.time()\n",
    "introduce_nas(azdias)\n",
    "end_time=time.time()\n",
    "\n",
    "print('total time for na conversion {:05.2f} sec'.format(end_time-start_time) )"
   ]
  },
  {
   "cell_type": "code",
   "execution_count": 8,
   "metadata": {},
   "outputs": [
    {
     "name": "stdout",
     "output_type": "stream",
     "text": [
      "Rows having Nans before conversion 628074\n",
      "Rows having Nans after conversion 891078\n"
     ]
    }
   ],
   "source": [
    "# How many rows have NaNs\n",
    "print('Rows having Nans before conversion', azdias_na_rows)\n",
    "print('Rows having Nans after conversion', azdias.isna().any(axis=1).sum())"
   ]
  },
  {
   "cell_type": "markdown",
   "metadata": {},
   "source": [
    "#### Step 1.1.2: Assess Missing Data in Each Column\n",
    "\n",
    "How much missing data is present in each column? There are a few columns that are outliers in terms of the proportion of values that are missing. You will want to use matplotlib's [`hist()`](https://matplotlib.org/api/_as_gen/matplotlib.pyplot.hist.html) function to visualize the distribution of missing value counts to find these columns. Identify and document these columns. While some of these columns might have justifications for keeping or re-encoding the data, for this project you should just remove them from the dataframe. (Feel free to make remarks about these outlier columns in the discussion, however!)\n",
    "\n",
    "For the remaining features, are there any patterns in which columns have, or share, missing data?"
   ]
  },
  {
   "cell_type": "code",
   "execution_count": 9,
   "metadata": {},
   "outputs": [
    {
     "data": {
      "text/plain": [
       "array([  0.        ,   0.32326438,   0.54464605,   2.05874862,\n",
       "         8.24700046,   8.2997371 ,   8.72869917,  10.45172858,\n",
       "        10.45251402,  10.51815431,  10.61150938,  10.88484226,\n",
       "        10.91468895,  10.92602172,  10.95485856,  11.14785222,\n",
       "        11.17691347,  11.97985685,  12.13660809,  12.15355114,\n",
       "        12.47681551,  13.07363718,  14.95970135,  16.60508449,\n",
       "        17.73566826,  34.81369941,  44.02028229,  53.46866827,\n",
       "        65.59674873,  76.9554353 ,  99.75763587])"
      ]
     },
     "execution_count": 9,
     "metadata": {},
     "output_type": "execute_result"
    }
   ],
   "source": [
    "# Perform an assessment of how much missing data there is in each column of the\n",
    "# dataset.\n",
    "# First lets find out what is the percentage of Nan in each column\n",
    "df_nan=azdias.isna().sum()/azdias.shape[0]*100\n",
    "# Lets check if there are some values that are repeated, forming clusters of columns with missing data. I believe this \n",
    "# this is more valuable than a histogram \n",
    "np.sort(df_nan.unique())"
   ]
  },
  {
   "cell_type": "code",
   "execution_count": 10,
   "metadata": {},
   "outputs": [
    {
     "data": {
      "text/plain": [
       "<matplotlib.axes._subplots.AxesSubplot at 0x7fce59dc5c18>"
      ]
     },
     "execution_count": 10,
     "metadata": {},
     "output_type": "execute_result"
    },
    {
     "data": {
      "image/png": "[encoded data removed]",
      "text/plain": [
       "<matplotlib.figure.Figure at 0x7fce2415d470>"
      ]
     },
     "metadata": {
      "needs_background": "light"
     },
     "output_type": "display_data"
    }
   ],
   "source": [
    "# This lines were given to me by the reviwer from 16.12.2019. They are nice for the barplot, but they contain the same information\n",
    "# as the array above\n",
    "# The ratio of missing data in each column\n",
    "missing_data_ratio = azdias.isnull().mean()\n",
    "\n",
    "# Plot showing missing value ratio in each columns\n",
    "plt.figure(figsize=(10,25))\n",
    "missing_data_ratio.sort_values(ascending=False).plot(kind='barh')"
   ]
  },
  {
   "cell_type": "code",
   "execution_count": 11,
   "metadata": {},
   "outputs": [
    {
     "name": "stdout",
     "output_type": "stream",
     "text": [
      "Index(['AGER_TYP', 'GEBURTSJAHR', 'TITEL_KZ', 'ALTER_HH', 'KK_KUNDENTYP',\n",
      "       'KBA05_BAUMAX'],\n",
      "      dtype='object')\n"
     ]
    }
   ],
   "source": [
    "# Identifying the outlier columns\n",
    "missing_data_ratio_gt_20 = missing_data_ratio[missing_data_ratio>.2]\n",
    "drop_list_cols=missing_data_ratio_gt_20.index\n",
    "print(drop_list_cols) "
   ]
  },
  {
   "cell_type": "code",
   "execution_count": 12,
   "metadata": {},
   "outputs": [],
   "source": [
    "# Dropping the outlier columns\n",
    "azdias.drop(list(missing_data_ratio_gt_20.index), axis=1, inplace=True)"
   ]
  },
  {
   "cell_type": "markdown",
   "metadata": {},
   "source": [
    "#### Discussion 1.1.2: Assess Missing Data in Each Column\n",
    "\n",
    "(Double click this cell and replace this text with your own text, reporting your observations regarding the amount of missing data in each column. Are there any patterns in missing values? Which columns were removed from the dataset?)\n",
    "\n",
    "#### I decided to remove all the colums where more than 20% of the data is missing. These 6 columns give for example some description about the persons personality or saving behaviour. Since this data is missing I prefer to remove these columns to avoid unwanted bias."
   ]
  },
  {
   "cell_type": "markdown",
   "metadata": {},
   "source": [
    "#### Step 1.1.3: Assess Missing Data in Each Row\n",
    "\n",
    "Now, you'll perform a similar assessment for the rows of the dataset. How much data is missing in each row? As with the columns, you should see some groups of points that have a very different numbers of missing values. Divide the data into two subsets: one for data points that are above some threshold for missing values, and a second subset for points below that threshold.\n",
    "\n",
    "In order to know what to do with the outlier rows, we should see if the distribution of data values on columns that are not missing data (or are missing very little data) are similar or different between the two groups. Select at least five of these columns and compare the distribution of values.\n",
    "- You can use seaborn's [`countplot()`](https://seaborn.pydata.org/generated/seaborn.countplot.html) function to create a bar chart of code frequencies and matplotlib's [`subplot()`](https://matplotlib.org/api/_as_gen/matplotlib.pyplot.subplot.html) function to put bar charts for the two subplots side by side.\n",
    "- To reduce repeated code, you might want to write a function that can perform this comparison, taking as one of its arguments a column to be compared.\n",
    "\n",
    "Depending on what you observe in your comparison, this will have implications on how you approach your conclusions later in the analysis. If the distributions of non-missing features look similar between the data with many missing values and the data with few or no missing values, then we could argue that simply dropping those points from the analysis won't present a major issue. On the other hand, if the data with many missing values looks very different from the data with few or no missing values, then we should make a note on those data as special. We'll revisit these data later on. **Either way, you should continue your analysis for now using just the subset of the data with few or no missing values.**"
   ]
  },
  {
   "cell_type": "code",
   "execution_count": 13,
   "metadata": {},
   "outputs": [
    {
     "name": "stdout",
     "output_type": "stream",
     "text": [
      " The rows of the data  891221\n",
      " The rows containing Nans are  268787\n"
     ]
    }
   ],
   "source": [
    "# How much data is missing in each row of the dataset?\n",
    "# How many rows have NaNs\n",
    "print(\" The rows of the data \" , azdias.shape[0]) \n",
    "print(\" The rows containing Nans are \" , azdias.isna().any(axis=1).sum())"
   ]
  },
  {
   "cell_type": "code",
   "execution_count": 14,
   "metadata": {},
   "outputs": [
    {
     "data": {
      "text/plain": [
       "array([ 0.        ,  0.01265823,  0.02531646,  0.03797468,  0.05063291,\n",
       "        0.06329114,  0.07594937,  0.08860759,  0.10126582,  0.11392405,\n",
       "        0.12658228,  0.13924051,  0.15189873,  0.16455696,  0.17721519,\n",
       "        0.18987342,  0.20253165,  0.21518987,  0.2278481 ,  0.24050633,\n",
       "        0.25316456,  0.26582278,  0.27848101,  0.29113924,  0.30379747,\n",
       "        0.3164557 ,  0.32911392,  0.34177215,  0.35443038,  0.36708861,\n",
       "        0.37974684,  0.39240506,  0.40506329,  0.41772152,  0.43037975,\n",
       "        0.44303797,  0.4556962 ,  0.46835443,  0.48101266,  0.49367089,\n",
       "        0.50632911,  0.51898734,  0.53164557,  0.5443038 ,  0.55696203,\n",
       "        0.56962025,  0.59493671,  0.60759494,  0.62025316])"
      ]
     },
     "execution_count": 14,
     "metadata": {},
     "output_type": "execute_result"
    }
   ],
   "source": [
    "# Write code to divide the data into two subsets based on the number of missing\n",
    "# values in each row.\n",
    "\n",
    "#first let check how many nans do we find per row, in percentage of the total number of columns\n",
    "np.sort(azdias.isna().sum(axis=1).unique()/azdias.shape[1])"
   ]
  },
  {
   "cell_type": "code",
   "execution_count": 15,
   "metadata": {},
   "outputs": [
    {
     "data": {
      "text/plain": [
       "15.8"
      ]
     },
     "execution_count": 15,
     "metadata": {},
     "output_type": "execute_result"
    }
   ],
   "source": [
    "# I decide to separate the rows which have more than 20% of missing data, therefore which have a maximal nr of na per row =\n",
    "max_na=azdias.shape[1]*0.2\n",
    "max_na"
   ]
  },
  {
   "cell_type": "code",
   "execution_count": 16,
   "metadata": {},
   "outputs": [
    {
     "data": {
      "text/plain": [
       "(792286, 79)"
      ]
     },
     "execution_count": 16,
     "metadata": {},
     "output_type": "execute_result"
    }
   ],
   "source": [
    "# With this info I create two data frames, one with low and one with with na content. LEts chekc the shape of theses data frames\n",
    "filter_list=azdias.isna().sum(axis=1)>=max_na\n",
    "azdias_low_na=azdias[~filter_list]\n",
    "azdias_low_na.shape"
   ]
  },
  {
   "cell_type": "code",
   "execution_count": 17,
   "metadata": {},
   "outputs": [
    {
     "data": {
      "text/plain": [
       "(98935, 79)"
      ]
     },
     "execution_count": 17,
     "metadata": {},
     "output_type": "execute_result"
    }
   ],
   "source": [
    "azdias_high_na=azdias[filter_list]\n",
    "azdias_high_na.shape"
   ]
  },
  {
   "cell_type": "code",
   "execution_count": 18,
   "metadata": {},
   "outputs": [
    {
     "data": {
      "text/plain": [
       "Index(['ANREDE_KZ', 'FINANZ_MINIMALIST', 'FINANZ_SPARER', 'FINANZ_VORSORGER',\n",
       "       'FINANZ_ANLEGER', 'FINANZ_UNAUFFAELLIGER', 'FINANZ_HAUSBAUER',\n",
       "       'FINANZTYP', 'GREEN_AVANTGARDE', 'SEMIO_SOZ', 'SEMIO_FAM', 'SEMIO_REL',\n",
       "       'SEMIO_MAT', 'SEMIO_VERT', 'SEMIO_LUST', 'SEMIO_ERL', 'SEMIO_KULT',\n",
       "       'SEMIO_RAT', 'SEMIO_KRIT', 'SEMIO_DOM', 'SEMIO_KAEM', 'SEMIO_PFLICHT',\n",
       "       'SEMIO_TRADV', 'SOHO_KZ', 'ZABEOTYP', 'ANZ_PERSONEN', 'ANZ_TITEL',\n",
       "       'HH_EINKOMMEN_SCORE', 'WOHNDAUER_2008', 'GEBAEUDETYP',\n",
       "       'MIN_GEBAEUDEJAHR', 'OST_WEST_KZ', 'WOHNLAGE'],\n",
       "      dtype='object')"
      ]
     },
     "execution_count": 18,
     "metadata": {},
     "output_type": "execute_result"
    }
   ],
   "source": [
    "# The list of columns with at most 0 nas in the low na dataframe\n",
    "azdias.columns[azdias_low_na.isna().sum()==0]"
   ]
  },
  {
   "cell_type": "code",
   "execution_count": 19,
   "metadata": {},
   "outputs": [
    {
     "data": {
      "image/png": "[encoded data removed]",
      "text/plain": [
       "<matplotlib.figure.Figure at 0x7fce217e7048>"
      ]
     },
     "metadata": {
      "needs_background": "light"
     },
     "output_type": "display_data"
    }
   ],
   "source": [
    "# Compare the distribution of values for at least five columns where there are\n",
    "# no or few missing values, between the two subsets.\n",
    "\n",
    "# In the plot below the nas of the dataframe with high na content are coded as -1 \n",
    "\n",
    "cols=['ANREDE_KZ', 'FINANZ_MINIMALIST', 'FINANZ_SPARER', 'FINANZ_VORSORGER','SEMIO_ERL']\n",
    "\n",
    "fig, axes = plt.subplots(1, 5, figsize=(10,2.5), dpi=100, sharex=False, sharey=True)\n",
    "\n",
    "for i, ax in enumerate(axes):\n",
    "    axes[i].hist(azdias_low_na[cols[i]].fillna(-1), log=True, color='b', alpha=0.5, label='w/o na')\n",
    "    axes[i].hist(azdias_high_na[cols[i]].fillna(-1), log=True, color='g', alpha=0.5, label='with_na')\n",
    "    axes[i].set_title(cols[i])\n",
    "    axes[i].legend()"
   ]
  },
  {
   "cell_type": "markdown",
   "metadata": {},
   "source": [
    "#### Discussion 1.1.3: Assess Missing Data in Each Row\n",
    "\n",
    "(Double-click this cell and replace this text with your own text, reporting your observations regarding missing data in rows. Are the data with lots of missing values are qualitatively different from data with few or no missing values?)\n",
    "\n",
    "#### The histograms above shows that the dataset that has more NaN values does not represent the same persons as those represented by the data witht low amount of NaNs. The sets are qualitatively different, the ratios of the values are not equivalent, therefore it makes sense to remove them for analysis to avoid introducing bias."
   ]
  },
  {
   "cell_type": "markdown",
   "metadata": {},
   "source": [
    "### Step 1.2: Select and Re-Encode Features\n",
    "\n",
    "Checking for missing data isn't the only way in which you can prepare a dataset for analysis. Since the unsupervised learning techniques to be used will only work on data that is encoded numerically, you need to make a few encoding changes or additional assumptions to be able to make progress. In addition, while almost all of the values in the dataset are encoded using numbers, not all of them represent numeric values. Check the third column of the feature summary (`feat_info`) for a summary of types of measurement.\n",
    "- For numeric and interval data, these features can be kept without changes.\n",
    "- Most of the variables in the dataset are ordinal in nature. While ordinal values may technically be non-linear in spacing, make the simplifying assumption that the ordinal variables can be treated as being interval in nature (that is, kept without any changes).\n",
    "- Special handling may be necessary for the remaining two variable types: categorical, and 'mixed'.\n",
    "\n",
    "In the first two parts of this sub-step, you will perform an investigation of the categorical and mixed-type features and make a decision on each of them, whether you will keep, drop, or re-encode each. Then, in the last part, you will create a new data frame with only the selected and engineered columns.\n",
    "\n",
    "Data wrangling is often the trickiest part of the data analysis process, and there's a lot of it to be done here. But stick with it: once you're done with this step, you'll be ready to get to the machine learning parts of the project!"
   ]
  },
  {
   "cell_type": "code",
   "execution_count": 20,
   "metadata": {},
   "outputs": [
    {
     "data": {
      "text/html": [
       "<div>\n",
       "<style scoped>\n",
       "    .dataframe tbody tr th:only-of-type {\n",
       "        vertical-align: middle;\n",
       "    }\n",
       "\n",
       "    .dataframe tbody tr th {\n",
       "        vertical-align: top;\n",
       "    }\n",
       "\n",
       "    .dataframe thead th {\n",
       "        text-align: right;\n",
       "    }\n",
       "</style>\n",
       "<table border=\"1\" class=\"dataframe\">\n",
       "  <thead>\n",
       "    <tr style=\"text-align: right;\">\n",
       "      <th></th>\n",
       "      <th>count</th>\n",
       "      <th>unique</th>\n",
       "      <th>top</th>\n",
       "      <th>freq</th>\n",
       "    </tr>\n",
       "    <tr>\n",
       "      <th>type</th>\n",
       "      <th></th>\n",
       "      <th></th>\n",
       "      <th></th>\n",
       "      <th></th>\n",
       "    </tr>\n",
       "  </thead>\n",
       "  <tbody>\n",
       "    <tr>\n",
       "      <th>categorical</th>\n",
       "      <td>21</td>\n",
       "      <td>1</td>\n",
       "      <td>categorical</td>\n",
       "      <td>21</td>\n",
       "    </tr>\n",
       "    <tr>\n",
       "      <th>interval</th>\n",
       "      <td>1</td>\n",
       "      <td>1</td>\n",
       "      <td>interval</td>\n",
       "      <td>1</td>\n",
       "    </tr>\n",
       "    <tr>\n",
       "      <th>mixed</th>\n",
       "      <td>7</td>\n",
       "      <td>1</td>\n",
       "      <td>mixed</td>\n",
       "      <td>7</td>\n",
       "    </tr>\n",
       "    <tr>\n",
       "      <th>numeric</th>\n",
       "      <td>7</td>\n",
       "      <td>1</td>\n",
       "      <td>numeric</td>\n",
       "      <td>7</td>\n",
       "    </tr>\n",
       "    <tr>\n",
       "      <th>ordinal</th>\n",
       "      <td>49</td>\n",
       "      <td>1</td>\n",
       "      <td>ordinal</td>\n",
       "      <td>49</td>\n",
       "    </tr>\n",
       "  </tbody>\n",
       "</table>\n",
       "</div>"
      ],
      "text/plain": [
       "            count unique          top freq\n",
       "type                                      \n",
       "categorical    21      1  categorical   21\n",
       "interval        1      1     interval    1\n",
       "mixed           7      1        mixed    7\n",
       "numeric         7      1      numeric    7\n",
       "ordinal        49      1      ordinal   49"
      ]
     },
     "execution_count": 20,
     "metadata": {},
     "output_type": "execute_result"
    }
   ],
   "source": [
    "# How many features are there of each data type?\n",
    "feat_info.groupby('type')['type'].describe()"
   ]
  },
  {
   "cell_type": "markdown",
   "metadata": {},
   "source": [
    "#### Step 1.2.1: Re-Encode Categorical Features\n",
    "\n",
    "For categorical data, you would ordinarily need to encode the levels as dummy variables. Depending on the number of categories, perform one of the following:\n",
    "- For binary (two-level) categoricals that take numeric values, you can keep them without needing to do anything.\n",
    "- There is one binary variable that takes on non-numeric values. For this one, you need to re-encode the values as numbers or create a dummy variable.\n",
    "- For multi-level categoricals (three or more values), you can choose to encode the values using multiple dummy variables (e.g. via [OneHotEncoder](http://scikit-learn.org/stable/modules/generated/sklearn.preprocessing.OneHotEncoder.html)), or (to keep things straightforward) just drop them from the analysis. As always, document your choices in the Discussion section."
   ]
  },
  {
   "cell_type": "code",
   "execution_count": 21,
   "metadata": {},
   "outputs": [
    {
     "data": {
      "text/html": [
       "<div>\n",
       "<style scoped>\n",
       "    .dataframe tbody tr th:only-of-type {\n",
       "        vertical-align: middle;\n",
       "    }\n",
       "\n",
       "    .dataframe tbody tr th {\n",
       "        vertical-align: top;\n",
       "    }\n",
       "\n",
       "    .dataframe thead th {\n",
       "        text-align: right;\n",
       "    }\n",
       "</style>\n",
       "<table border=\"1\" class=\"dataframe\">\n",
       "  <thead>\n",
       "    <tr style=\"text-align: right;\">\n",
       "      <th></th>\n",
       "      <th>attribute</th>\n",
       "      <th>nr_levels</th>\n",
       "      <th>levels</th>\n",
       "    </tr>\n",
       "  </thead>\n",
       "  <tbody>\n",
       "    <tr>\n",
       "      <th>0</th>\n",
       "      <td>ANREDE_KZ</td>\n",
       "      <td>2</td>\n",
       "      <td>[2, 1]</td>\n",
       "    </tr>\n",
       "    <tr>\n",
       "      <th>0</th>\n",
       "      <td>CAMEO_DEUG_2015</td>\n",
       "      <td>10</td>\n",
       "      <td>[8, 4, 2, 6, 1, 9, 5, 7, 3, nan]</td>\n",
       "    </tr>\n",
       "    <tr>\n",
       "      <th>0</th>\n",
       "      <td>CAMEO_DEU_2015</td>\n",
       "      <td>45</td>\n",
       "      <td>[8A, 4C, 2A, 6B, 8C, 4A, 2D, 1A, 1E, 9D, 5C, 8...</td>\n",
       "    </tr>\n",
       "    <tr>\n",
       "      <th>0</th>\n",
       "      <td>CJT_GESAMTTYP</td>\n",
       "      <td>7</td>\n",
       "      <td>[5.0, 3.0, 2.0, 4.0, 1.0, 6.0, nan]</td>\n",
       "    </tr>\n",
       "    <tr>\n",
       "      <th>0</th>\n",
       "      <td>FINANZTYP</td>\n",
       "      <td>6</td>\n",
       "      <td>[1, 6, 5, 2, 4, 3]</td>\n",
       "    </tr>\n",
       "    <tr>\n",
       "      <th>0</th>\n",
       "      <td>GEBAEUDETYP</td>\n",
       "      <td>7</td>\n",
       "      <td>[8.0, 1.0, 3.0, 2.0, 6.0, 4.0, 5.0]</td>\n",
       "    </tr>\n",
       "    <tr>\n",
       "      <th>0</th>\n",
       "      <td>GFK_URLAUBERTYP</td>\n",
       "      <td>13</td>\n",
       "      <td>[10.0, 1.0, 5.0, 12.0, 9.0, 3.0, 8.0, 11.0, 4....</td>\n",
       "    </tr>\n",
       "    <tr>\n",
       "      <th>0</th>\n",
       "      <td>GREEN_AVANTGARDE</td>\n",
       "      <td>2</td>\n",
       "      <td>[0, 1]</td>\n",
       "    </tr>\n",
       "    <tr>\n",
       "      <th>0</th>\n",
       "      <td>LP_FAMILIE_FEIN</td>\n",
       "      <td>12</td>\n",
       "      <td>[5.0, 1.0, nan, 10.0, 2.0, 7.0, 11.0, 8.0, 4.0...</td>\n",
       "    </tr>\n",
       "    <tr>\n",
       "      <th>0</th>\n",
       "      <td>LP_FAMILIE_GROB</td>\n",
       "      <td>6</td>\n",
       "      <td>[3.0, 1.0, nan, 5.0, 2.0, 4.0]</td>\n",
       "    </tr>\n",
       "    <tr>\n",
       "      <th>0</th>\n",
       "      <td>LP_STATUS_FEIN</td>\n",
       "      <td>11</td>\n",
       "      <td>[2.0, 3.0, 9.0, 4.0, 1.0, 10.0, 5.0, 8.0, 6.0,...</td>\n",
       "    </tr>\n",
       "    <tr>\n",
       "      <th>0</th>\n",
       "      <td>LP_STATUS_GROB</td>\n",
       "      <td>6</td>\n",
       "      <td>[1.0, 2.0, 4.0, 5.0, 3.0, nan]</td>\n",
       "    </tr>\n",
       "    <tr>\n",
       "      <th>0</th>\n",
       "      <td>NATIONALITAET_KZ</td>\n",
       "      <td>4</td>\n",
       "      <td>[1.0, 3.0, 2.0, nan]</td>\n",
       "    </tr>\n",
       "    <tr>\n",
       "      <th>0</th>\n",
       "      <td>OST_WEST_KZ</td>\n",
       "      <td>2</td>\n",
       "      <td>[W, O]</td>\n",
       "    </tr>\n",
       "    <tr>\n",
       "      <th>0</th>\n",
       "      <td>SHOPPER_TYP</td>\n",
       "      <td>5</td>\n",
       "      <td>[3.0, 2.0, 1.0, 0.0, nan]</td>\n",
       "    </tr>\n",
       "    <tr>\n",
       "      <th>0</th>\n",
       "      <td>SOHO_KZ</td>\n",
       "      <td>2</td>\n",
       "      <td>[1.0, 0.0]</td>\n",
       "    </tr>\n",
       "    <tr>\n",
       "      <th>0</th>\n",
       "      <td>VERS_TYP</td>\n",
       "      <td>3</td>\n",
       "      <td>[2.0, 1.0, nan]</td>\n",
       "    </tr>\n",
       "    <tr>\n",
       "      <th>0</th>\n",
       "      <td>ZABEOTYP</td>\n",
       "      <td>6</td>\n",
       "      <td>[5, 3, 4, 1, 6, 2]</td>\n",
       "    </tr>\n",
       "  </tbody>\n",
       "</table>\n",
       "</div>"
      ],
      "text/plain": [
       "          attribute  nr_levels  \\\n",
       "0         ANREDE_KZ          2   \n",
       "0   CAMEO_DEUG_2015         10   \n",
       "0    CAMEO_DEU_2015         45   \n",
       "0     CJT_GESAMTTYP          7   \n",
       "0         FINANZTYP          6   \n",
       "0       GEBAEUDETYP          7   \n",
       "0   GFK_URLAUBERTYP         13   \n",
       "0  GREEN_AVANTGARDE          2   \n",
       "0   LP_FAMILIE_FEIN         12   \n",
       "0   LP_FAMILIE_GROB          6   \n",
       "0    LP_STATUS_FEIN         11   \n",
       "0    LP_STATUS_GROB          6   \n",
       "0  NATIONALITAET_KZ          4   \n",
       "0       OST_WEST_KZ          2   \n",
       "0       SHOPPER_TYP          5   \n",
       "0           SOHO_KZ          2   \n",
       "0          VERS_TYP          3   \n",
       "0          ZABEOTYP          6   \n",
       "\n",
       "                                              levels  \n",
       "0                                             [2, 1]  \n",
       "0                   [8, 4, 2, 6, 1, 9, 5, 7, 3, nan]  \n",
       "0  [8A, 4C, 2A, 6B, 8C, 4A, 2D, 1A, 1E, 9D, 5C, 8...  \n",
       "0                [5.0, 3.0, 2.0, 4.0, 1.0, 6.0, nan]  \n",
       "0                                 [1, 6, 5, 2, 4, 3]  \n",
       "0                [8.0, 1.0, 3.0, 2.0, 6.0, 4.0, 5.0]  \n",
       "0  [10.0, 1.0, 5.0, 12.0, 9.0, 3.0, 8.0, 11.0, 4....  \n",
       "0                                             [0, 1]  \n",
       "0  [5.0, 1.0, nan, 10.0, 2.0, 7.0, 11.0, 8.0, 4.0...  \n",
       "0                     [3.0, 1.0, nan, 5.0, 2.0, 4.0]  \n",
       "0  [2.0, 3.0, 9.0, 4.0, 1.0, 10.0, 5.0, 8.0, 6.0,...  \n",
       "0                     [1.0, 2.0, 4.0, 5.0, 3.0, nan]  \n",
       "0                               [1.0, 3.0, 2.0, nan]  \n",
       "0                                             [W, O]  \n",
       "0                          [3.0, 2.0, 1.0, 0.0, nan]  \n",
       "0                                         [1.0, 0.0]  \n",
       "0                                    [2.0, 1.0, nan]  \n",
       "0                                 [5, 3, 4, 1, 6, 2]  "
      ]
     },
     "execution_count": 21,
     "metadata": {},
     "output_type": "execute_result"
    }
   ],
   "source": [
    "# Assess categorical variables: which are binary, which are multi-level, and\n",
    "# which one needs to be re-encoded?\n",
    "# We have to deal with 21 categorical variables. Lets first isolate these from the cleaned dataset \n",
    "cat_var=feat_info[feat_info['type']=='categorical']['attribute'].values\n",
    "cols=azdias_low_na.columns\n",
    "\n",
    "set_cols_cat=np.intersect1d(np.array(cols), np.array(cat_var))\n",
    "\n",
    "df_attributes_levels=pd.DataFrame()\n",
    "\n",
    "for cat in set_cols_cat:\n",
    "    #print('The variable ', cat, 'has the levels', azdias_no_nan[cat].unique())\n",
    "    df_attributes_levels=df_attributes_levels.append(pd.DataFrame({'attribute':[cat],\n",
    "                                                                   'nr_levels':[len(azdias_low_na[cat].unique())],\n",
    "                                                                   'levels':[azdias_low_na[cat].unique()]\n",
    "                                                                  }))\n",
    "\n",
    "df_attributes_levels"
   ]
  },
  {
   "cell_type": "code",
   "execution_count": 22,
   "metadata": {},
   "outputs": [
    {
     "data": {
      "text/plain": [
       "(792286, 61)"
      ]
     },
     "execution_count": 22,
     "metadata": {},
     "output_type": "execute_result"
    }
   ],
   "source": [
    "# I decide to remove alvariables with levels >3\n",
    "# The attributes_to_retain and to remove are extracted from the data frame above\n",
    "attributes_cat=df_attributes_levels['attribute'][df_attributes_levels['nr_levels'].apply(lambda x: x in [2,3]) ].values \n",
    "attributes_remove=df_attributes_levels['attribute'][df_attributes_levels['nr_levels'].apply(lambda x: x not in [2,3]) ].values \n",
    "\n",
    "# With the list of attribtes I get the data of the categorical attributes which will be one hot encoded\n",
    "azdias_cat=azdias_low_na[attributes_cat]\n",
    "# And I remove all categorical attributes from the dataset. The onehot encoded atributes will be appended afterwardss \n",
    "azdias_no_cat=azdias_low_na.drop(list(set_cols_cat), axis=1)\n",
    "azdias_no_cat.shape"
   ]
  },
  {
   "cell_type": "code",
   "execution_count": 23,
   "metadata": {},
   "outputs": [
    {
     "data": {
      "text/plain": [
       "(792286, 10)"
      ]
     },
     "execution_count": 23,
     "metadata": {},
     "output_type": "execute_result"
    }
   ],
   "source": [
    "# Re-encode categorical variable(s) to be kept in the analysis.\n",
    "azdias_cat=pd.get_dummies(azdias_cat, columns=azdias_cat.columns)\n",
    "azdias_cat.shape"
   ]
  },
  {
   "cell_type": "code",
   "execution_count": 24,
   "metadata": {},
   "outputs": [
    {
     "data": {
      "text/plain": [
       "(792286, 71)"
      ]
     },
     "execution_count": 24,
     "metadata": {},
     "output_type": "execute_result"
    }
   ],
   "source": [
    "# Now, Lets merge the one hot encoded attributes to the data frame without categorical attributes\n",
    "azdias_1hot_cat=pd.concat([azdias_no_cat, azdias_cat], axis=1)\n",
    "azdias_1hot_cat.shape"
   ]
  },
  {
   "cell_type": "code",
   "execution_count": 25,
   "metadata": {},
   "outputs": [
    {
     "data": {
      "text/plain": [
       "['ANREDE_KZ',\n",
       " 'CAMEO_DEUG_2015',\n",
       " 'CAMEO_DEU_2015',\n",
       " 'CJT_GESAMTTYP',\n",
       " 'FINANZTYP',\n",
       " 'GEBAEUDETYP',\n",
       " 'GFK_URLAUBERTYP',\n",
       " 'GREEN_AVANTGARDE',\n",
       " 'LP_FAMILIE_FEIN',\n",
       " 'LP_FAMILIE_GROB',\n",
       " 'LP_STATUS_FEIN',\n",
       " 'LP_STATUS_GROB',\n",
       " 'NATIONALITAET_KZ',\n",
       " 'OST_WEST_KZ',\n",
       " 'SHOPPER_TYP',\n",
       " 'SOHO_KZ',\n",
       " 'VERS_TYP',\n",
       " 'ZABEOTYP']"
      ]
     },
     "execution_count": 25,
     "metadata": {},
     "output_type": "execute_result"
    }
   ],
   "source": [
    "# list of the categorical columns that were removed\n",
    "drop_list_cat= list(set_cols_cat)\n",
    "drop_list_cat"
   ]
  },
  {
   "cell_type": "code",
   "execution_count": 26,
   "metadata": {},
   "outputs": [
    {
     "data": {
      "text/plain": [
       "['ANREDE_KZ', 'GREEN_AVANTGARDE', 'OST_WEST_KZ', 'SOHO_KZ', 'VERS_TYP']"
      ]
     },
     "execution_count": 26,
     "metadata": {},
     "output_type": "execute_result"
    }
   ],
   "source": [
    "# list the attrobutes that will remain in the dataset and that were be 1-hot encoded\n",
    "list_1_hot_encode=list(attributes_cat)\n",
    "list_1_hot_encode"
   ]
  },
  {
   "cell_type": "code",
   "execution_count": 27,
   "metadata": {},
   "outputs": [],
   "source": [
    "# The Dataframe to be passed to the enxt step is azdias_1hot_cat"
   ]
  },
  {
   "cell_type": "markdown",
   "metadata": {},
   "source": [
    "#### Discussion 1.2.1: Re-Encode Categorical Features\n",
    "\n",
    "(Double-click this cell and replace this text with your own text, reporting your findings and decisions regarding categorical features. Which ones did you keep, which did you drop, and what engineering steps did you perform?)\n",
    "\n",
    "#### The overview of the categorical variables showed that after my initial filtering, we had 21 categorical variables with different levels going from 2 to 45. IF we were to encode this as binary attributes we would some hundreds of columns to the set. Therefore I decided to drop out all categorical attributes which had more than 3 levels. This decision taken, I extracted the categorical variables and coded them as 1 or 0 for the different levels."
   ]
  },
  {
   "cell_type": "markdown",
   "metadata": {},
   "source": [
    "#### Step 1.2.2: Engineer Mixed-Type Features\n",
    "\n",
    "There are a handful of features that are marked as \"mixed\" in the feature summary that require special treatment in order to be included in the analysis. There are two in particular that deserve attention; the handling of the rest are up to your own choices:\n",
    "- \"PRAEGENDE_JUGENDJAHRE\" combines information on three dimensions: generation by decade, movement (mainstream vs. avantgarde), and nation (east vs. west). While there aren't enough levels to disentangle east from west, you should create two new variables to capture the other two dimensions: an interval-type variable for decade, and a binary variable for movement.\n",
    "- \"CAMEO_INTL_2015\" combines information on two axes: wealth and life stage. Break up the two-digit codes by their 'tens'-place and 'ones'-place digits into two new ordinal variables (which, for the purposes of this project, is equivalent to just treating them as their raw numeric values).\n",
    "- If you decide to keep or engineer new features around the other mixed-type features, make sure you note your steps in the Discussion section.\n",
    "\n",
    "Be sure to check `Data_Dictionary.md` for the details needed to finish these tasks."
   ]
  },
  {
   "cell_type": "code",
   "execution_count": 28,
   "metadata": {},
   "outputs": [
    {
     "data": {
      "text/html": [
       "<div>\n",
       "<style scoped>\n",
       "    .dataframe tbody tr th:only-of-type {\n",
       "        vertical-align: middle;\n",
       "    }\n",
       "\n",
       "    .dataframe tbody tr th {\n",
       "        vertical-align: top;\n",
       "    }\n",
       "\n",
       "    .dataframe thead th {\n",
       "        text-align: right;\n",
       "    }\n",
       "</style>\n",
       "<table border=\"1\" class=\"dataframe\">\n",
       "  <thead>\n",
       "    <tr style=\"text-align: right;\">\n",
       "      <th></th>\n",
       "      <th>attribute</th>\n",
       "      <th>nr_levels</th>\n",
       "      <th>levels</th>\n",
       "    </tr>\n",
       "  </thead>\n",
       "  <tbody>\n",
       "    <tr>\n",
       "      <th>0</th>\n",
       "      <td>CAMEO_INTL_2015</td>\n",
       "      <td>22</td>\n",
       "      <td>[51, 24, 12, 43, 54, 22, 14, 13, 15, 33, 41, 3...</td>\n",
       "    </tr>\n",
       "    <tr>\n",
       "      <th>0</th>\n",
       "      <td>LP_LEBENSPHASE_FEIN</td>\n",
       "      <td>41</td>\n",
       "      <td>[21.0, 3.0, nan, 32.0, 8.0, 2.0, 5.0, 10.0, 4....</td>\n",
       "    </tr>\n",
       "    <tr>\n",
       "      <th>0</th>\n",
       "      <td>LP_LEBENSPHASE_GROB</td>\n",
       "      <td>13</td>\n",
       "      <td>[6.0, 1.0, nan, 10.0, 2.0, 3.0, 5.0, 7.0, 12.0...</td>\n",
       "    </tr>\n",
       "    <tr>\n",
       "      <th>0</th>\n",
       "      <td>PLZ8_BAUMAX</td>\n",
       "      <td>6</td>\n",
       "      <td>[1.0, 2.0, nan, 4.0, 5.0, 3.0]</td>\n",
       "    </tr>\n",
       "    <tr>\n",
       "      <th>0</th>\n",
       "      <td>PRAEGENDE_JUGENDJAHRE</td>\n",
       "      <td>16</td>\n",
       "      <td>[14.0, 15.0, 8.0, 3.0, 10.0, 11.0, 5.0, 9.0, 6...</td>\n",
       "    </tr>\n",
       "    <tr>\n",
       "      <th>0</th>\n",
       "      <td>WOHNLAGE</td>\n",
       "      <td>8</td>\n",
       "      <td>[4.0, 2.0, 7.0, 3.0, 5.0, 1.0, 8.0, 0.0]</td>\n",
       "    </tr>\n",
       "  </tbody>\n",
       "</table>\n",
       "</div>"
      ],
      "text/plain": [
       "               attribute  nr_levels  \\\n",
       "0        CAMEO_INTL_2015         22   \n",
       "0    LP_LEBENSPHASE_FEIN         41   \n",
       "0    LP_LEBENSPHASE_GROB         13   \n",
       "0            PLZ8_BAUMAX          6   \n",
       "0  PRAEGENDE_JUGENDJAHRE         16   \n",
       "0               WOHNLAGE          8   \n",
       "\n",
       "                                              levels  \n",
       "0  [51, 24, 12, 43, 54, 22, 14, 13, 15, 33, 41, 3...  \n",
       "0  [21.0, 3.0, nan, 32.0, 8.0, 2.0, 5.0, 10.0, 4....  \n",
       "0  [6.0, 1.0, nan, 10.0, 2.0, 3.0, 5.0, 7.0, 12.0...  \n",
       "0                     [1.0, 2.0, nan, 4.0, 5.0, 3.0]  \n",
       "0  [14.0, 15.0, 8.0, 3.0, 10.0, 11.0, 5.0, 9.0, 6...  \n",
       "0           [4.0, 2.0, 7.0, 3.0, 5.0, 1.0, 8.0, 0.0]  "
      ]
     },
     "execution_count": 28,
     "metadata": {},
     "output_type": "execute_result"
    }
   ],
   "source": [
    "# First lets study the attributes with mixed levels\n",
    "mixed_var=feat_info[feat_info['type']=='mixed']['attribute'].values\n",
    "cols=azdias_low_na.columns\n",
    "\n",
    "set_cols_mixed=np.intersect1d(np.array(cols), np.array(mixed_var))\n",
    "\n",
    "df_attributes_levels=pd.DataFrame()\n",
    "\n",
    "for mix in set_cols_mixed:\n",
    "    df_attributes_levels=df_attributes_levels.append(pd.DataFrame({'attribute':[mix],\n",
    "                                                                   'nr_levels':[len(azdias_low_na[mix].unique())],\n",
    "                                                                   'levels':[azdias_low_na[mix].unique()]\n",
    "                                                                  }))\n",
    "df_attributes_levels"
   ]
  },
  {
   "cell_type": "code",
   "execution_count": 29,
   "metadata": {},
   "outputs": [
    {
     "name": "stdout",
     "output_type": "stream",
     "text": [
      "Nr of mixed attributes 6\n"
     ]
    },
    {
     "data": {
      "text/plain": [
       "(792286, 65)"
      ]
     },
     "execution_count": 29,
     "metadata": {},
     "output_type": "execute_result"
    }
   ],
   "source": [
    "# For simplicity I decide to remove all the \"mixed\" attributes other than \"preagende_jugendjahre\" and \"\"cameo_intl_2015\"\n",
    "# for this i will extract these columns for processing and remove all the mixed set from the dataset\n",
    "print('Nr of mixed attributes', len(set_cols_mixed))\n",
    "PRAEGENDE=azdias_no_cat['PRAEGENDE_JUGENDJAHRE']\n",
    "CAMEO=azdias_no_cat['CAMEO_INTL_2015']\n",
    "azdias_1hot_cat=azdias_1hot_cat.drop(set_cols_mixed, axis=1)\n",
    "azdias_1hot_cat.shape"
   ]
  },
  {
   "cell_type": "code",
   "execution_count": 30,
   "metadata": {},
   "outputs": [
    {
     "data": {
      "text/plain": [
       "['CAMEO_INTL_2015',\n",
       " 'LP_LEBENSPHASE_FEIN',\n",
       " 'LP_LEBENSPHASE_GROB',\n",
       " 'PLZ8_BAUMAX',\n",
       " 'PRAEGENDE_JUGENDJAHRE',\n",
       " 'WOHNLAGE']"
      ]
     },
     "execution_count": 30,
     "metadata": {},
     "output_type": "execute_result"
    }
   ],
   "source": [
    "# list of mixed attributes\n",
    "drop_list_mixed=list(set_cols_mixed)\n",
    "drop_list_mixed"
   ]
  },
  {
   "cell_type": "code",
   "execution_count": 31,
   "metadata": {},
   "outputs": [],
   "source": [
    "# Investigate \"PRAEGENDE_JUGENDJAHRE\" and engineer two new variables.\n",
    "def get_decade(code):\n",
    "    if code in [1,3]:\n",
    "        return(40)\n",
    "    elif code in [3,4]:\n",
    "        return(50)\n",
    "    elif code in [5,6,7]:\n",
    "        return(70)\n",
    "    elif code in [10,11, 12, 13]:\n",
    "        return(80)\n",
    "    elif code in [14,15]:\n",
    "        return(80)\n",
    "    else:\n",
    "        return (np.NaN)\n",
    "\n",
    "def get_mainstream(code):\n",
    "    if code in [1,3, 5, 8, 10, 12, 14]:\n",
    "        return(1)\n",
    "    elif code in [2, 4, 6, 9, 11, 13, 15]:\n",
    "        return (0)\n",
    "    else:\n",
    "        return (np.NaN)   \n",
    "##function test\n",
    "#get_decade(2)\n",
    "#get_mainstream(0)"
   ]
  },
  {
   "cell_type": "code",
   "execution_count": 32,
   "metadata": {},
   "outputs": [],
   "source": [
    "# Apply the function to engineer the new categories\n",
    "youth_decade=PRAEGENDE.apply(get_decade)\n",
    "youth_decade=youth_decade.rename('youth_decade')\n",
    "youth_mainstream=PRAEGENDE.apply(get_mainstream)\n",
    "youth_mainstream=youth_mainstream.rename('youth_mainstream')"
   ]
  },
  {
   "cell_type": "code",
   "execution_count": 33,
   "metadata": {},
   "outputs": [
    {
     "data": {
      "text/plain": [
       "array(['51', '24', '12', '43', '54', '22', '14', '13', '15', '33', '41',\n",
       "       '34', '55', '25', 'XX', '23', '31', '52', '35', '45', '44', '32'], dtype=object)"
      ]
     },
     "execution_count": 33,
     "metadata": {},
     "output_type": "execute_result"
    }
   ],
   "source": [
    "# Investigate \"CAMEO_INTL_2015\" and engineer two new variables.\n",
    "CAMEO.unique()\n",
    "CAMEO=CAMEO.fillna('XX')\n",
    "CAMEO.unique()"
   ]
  },
  {
   "cell_type": "code",
   "execution_count": 34,
   "metadata": {},
   "outputs": [],
   "source": [
    "def get_1_digit (s):\n",
    "    if s[0]=='X':\n",
    "        return (np.NaN)\n",
    "    else:\n",
    "        return (np.int(s[0]))\n",
    "    \n",
    "def get_2_digit (s):\n",
    "    if s[1]=='X':\n",
    "        return (np.NaN)\n",
    "    else:\n",
    "        return (np.int(s[1]))"
   ]
  },
  {
   "cell_type": "code",
   "execution_count": 35,
   "metadata": {},
   "outputs": [],
   "source": [
    "#lets now apply the function\n",
    "household_wealth=CAMEO.apply(get_1_digit)\n",
    "household_wealth=household_wealth.rename('household_wealth')\n",
    "household_type=CAMEO.apply(get_2_digit)\n",
    "household_type=household_type.rename('household_type')"
   ]
  },
  {
   "cell_type": "code",
   "execution_count": 36,
   "metadata": {},
   "outputs": [],
   "source": [
    "#Now we append the new variables to the Dataset\n",
    "df_mixed_attributes=pd.concat([household_wealth, household_type, youth_decade, youth_mainstream], axis=1)\n",
    "azdias_hot_mixed=pd.concat([azdias_1hot_cat, df_mixed_attributes], axis=1)"
   ]
  },
  {
   "cell_type": "code",
   "execution_count": 37,
   "metadata": {},
   "outputs": [
    {
     "data": {
      "text/plain": [
       "(792286, 69)"
      ]
     },
     "execution_count": 37,
     "metadata": {},
     "output_type": "execute_result"
    }
   ],
   "source": [
    "azdias_hot_mixed.shape"
   ]
  },
  {
   "cell_type": "code",
   "execution_count": 38,
   "metadata": {},
   "outputs": [],
   "source": [
    "# The dataframe to be passed to the next step is azdias_1hot_mixed"
   ]
  },
  {
   "cell_type": "markdown",
   "metadata": {},
   "source": [
    "#### Discussion 1.2.2: Engineer Mixed-Type Features\n",
    "\n",
    "(Double-click this cell and replace this text with your own text, reporting your findings and decisions regarding mixed-value features. Which ones did you keep, which did you drop, and what engineering steps did you perform?)\n",
    "\n",
    "#### After my initial filtering, the dataset contained 6 \"mixed\" attributes. Mixed meaning that the number represents a category that contains more than one information, I decided to retain only the attributes \"preagende_jugendjahre\" and \"\"cameo_intl_2015\". From praegende_juegendjahre, I extracted the information of the decade where the person was young in the varibale youth_decade, and if he was part of a mainstream movement or not in youth_mainstream.  As for cameo_intl_2015, I extracted the information of the wealth of the household, in household_wealth, and of the type of houshold in household_type."
   ]
  },
  {
   "cell_type": "markdown",
   "metadata": {},
   "source": [
    "#### Step 1.2.3: Complete Feature Selection\n",
    "\n",
    "In order to finish this step up, you need to make sure that your data frame now only has the columns that you want to keep. To summarize, the dataframe should consist of the following:\n",
    "- All numeric, interval, and ordinal type columns from the original dataset.\n",
    "- Binary categorical features (all numerically-encoded).\n",
    "- Engineered features from other multi-level categorical features and mixed features.\n",
    "\n",
    "Make sure that for any new columns that you have engineered, that you've excluded the original columns from the final dataset. Otherwise, their values will interfere with the analysis later on the project. For example, you should not keep \"PRAEGENDE_JUGENDJAHRE\", since its values won't be useful for the algorithm: only the values derived from it in the engineered features you created should be retained. As a reminder, your data should only be from **the subset with few or no missing values**."
   ]
  },
  {
   "cell_type": "code",
   "execution_count": 39,
   "metadata": {},
   "outputs": [
    {
     "data": {
      "text/plain": [
       "Index(['ALTERSKATEGORIE_GROB', 'FINANZ_MINIMALIST', 'FINANZ_SPARER',\n",
       "       'FINANZ_VORSORGER', 'FINANZ_ANLEGER', 'FINANZ_UNAUFFAELLIGER',\n",
       "       'FINANZ_HAUSBAUER', 'HEALTH_TYP', 'RETOURTYP_BK_S', 'SEMIO_SOZ',\n",
       "       'SEMIO_FAM', 'SEMIO_REL', 'SEMIO_MAT', 'SEMIO_VERT', 'SEMIO_LUST',\n",
       "       'SEMIO_ERL', 'SEMIO_KULT', 'SEMIO_RAT', 'SEMIO_KRIT', 'SEMIO_DOM',\n",
       "       'SEMIO_KAEM', 'SEMIO_PFLICHT', 'SEMIO_TRADV', 'ANZ_PERSONEN',\n",
       "       'ANZ_TITEL', 'HH_EINKOMMEN_SCORE', 'W_KEIT_KIND_HH', 'WOHNDAUER_2008',\n",
       "       'ANZ_HAUSHALTE_AKTIV', 'ANZ_HH_TITEL', 'KONSUMNAEHE',\n",
       "       'MIN_GEBAEUDEJAHR', 'KBA05_ANTG1', 'KBA05_ANTG2', 'KBA05_ANTG3',\n",
       "       'KBA05_ANTG4', 'KBA05_GBZ', 'BALLRAUM', 'EWDICHTE', 'INNENSTADT',\n",
       "       'GEBAEUDETYP_RASTER', 'KKK', 'MOBI_REGIO', 'ONLINE_AFFINITAET',\n",
       "       'REGIOTYP', 'KBA13_ANZAHL_PKW', 'PLZ8_ANTG1', 'PLZ8_ANTG2',\n",
       "       'PLZ8_ANTG3', 'PLZ8_ANTG4', 'PLZ8_HHZ', 'PLZ8_GBZ', 'ARBEIT',\n",
       "       'ORTSGR_KLS9', 'RELAT_AB', 'ANREDE_KZ_1', 'ANREDE_KZ_2',\n",
       "       'GREEN_AVANTGARDE_0', 'GREEN_AVANTGARDE_1', 'OST_WEST_KZ_O',\n",
       "       'OST_WEST_KZ_W', 'SOHO_KZ_0.0', 'SOHO_KZ_1.0', 'VERS_TYP_1.0',\n",
       "       'VERS_TYP_2.0', 'household_wealth', 'household_type', 'youth_decade',\n",
       "       'youth_mainstream'],\n",
       "      dtype='object')"
      ]
     },
     "execution_count": 39,
     "metadata": {},
     "output_type": "execute_result"
    }
   ],
   "source": [
    "# If there are other re-engineering tasks you need to perform, make sure you\n",
    "# take care of them here. (Dealing with missing data will come in step 2.1.)\n",
    "\n",
    "# This was done in the prior steps\n",
    "# let us list the attributes we have\n",
    "azdias_hot_mixed.columns"
   ]
  },
  {
   "cell_type": "code",
   "execution_count": 40,
   "metadata": {},
   "outputs": [
    {
     "data": {
      "text/plain": [
       "array([dtype('float64'), dtype('int64'), dtype('uint8')], dtype=object)"
      ]
     },
     "execution_count": 40,
     "metadata": {},
     "output_type": "execute_result"
    }
   ],
   "source": [
    "# Do whatever you need to in order to ensure that the dataframe only contains\n",
    "# the columns that should be passed to the algorithm functions.\n",
    "# Let us check the types of the attributes we have\n",
    "azdias_hot_mixed.dtypes.unique()"
   ]
  },
  {
   "cell_type": "code",
   "execution_count": 41,
   "metadata": {},
   "outputs": [],
   "source": [
    "#Lets check now if the columns that we introduced have too many Nas\n",
    "df_nan=azdias_hot_mixed.isna().sum()/azdias.shape[0]\n",
    "drop_list_cols_final=df_nan.sort_values(ascending=False)[df_nan.sort_values(ascending=False)>0.2].index\n"
   ]
  },
  {
   "cell_type": "code",
   "execution_count": 42,
   "metadata": {},
   "outputs": [],
   "source": [
    "#Now we can remove these columns\n",
    "azdias_hot_mixed.drop(drop_list_cols_final, axis=1, inplace=True)"
   ]
  },
  {
   "cell_type": "code",
   "execution_count": 43,
   "metadata": {},
   "outputs": [
    {
     "data": {
      "text/plain": [
       "['youth_decade']"
      ]
     },
     "execution_count": 43,
     "metadata": {},
     "output_type": "execute_result"
    }
   ],
   "source": [
    "drop_list_cols_final=list(drop_list_cols_final)\n",
    "drop_list_cols_final"
   ]
  },
  {
   "cell_type": "markdown",
   "metadata": {},
   "source": [
    "### Step 1.3: Create a Cleaning Function\n",
    "\n",
    "Even though you've finished cleaning up the general population demographics data, it's important to look ahead to the future and realize that you'll need to perform the same cleaning steps on the customer demographics data. In this substep, complete the function below to execute the main feature selection, encoding, and re-engineering steps you performed above. Then, when it comes to looking at the customer data in Step 3, you can just run this function on that DataFrame to get the trimmed dataset in a single step."
   ]
  },
  {
   "cell_type": "code",
   "execution_count": 44,
   "metadata": {},
   "outputs": [],
   "source": [
    "def clean_data(df, feat_info, drop_list_cols, max_na, list_1_hot_encode, drop_list_cat, drop_list_mixed, drop_list_cols_final):\n",
    "    \"\"\"\n",
    "    Perform feature trimming, re-encoding, and engineering for demographics\n",
    "    data\n",
    "    \n",
    "    INPUT: Demographics DataFrame, feat_info dataframe\n",
    "    OUTPUT: Trimmed and cleaned demographics DataFrame\n",
    "    \"\"\"\n",
    "    \n",
    "    # Put in code here to execute all main cleaning steps:\n",
    "    # convert missing value codes into NaNs, ...\n",
    "    print('initial shape', df.shape)\n",
    "    df_res=df.copy()\n",
    "    df_res=introduce_nas(df_res)\n",
    "    \n",
    "    print('After introducing Nans', df_res.shape)\n",
    "    print('Rows having Nans after conversion', df_res.isna().any(axis=1).sum())\n",
    "    # remove selected columns and rows, ...\n",
    "    ###Remove columns with to many missing values\n",
    "\n",
    "    ###cols\n",
    "    drop_list=drop_list_cols\n",
    "\n",
    "    df_res.drop(drop_list, axis=1, inplace=True)\n",
    "    print('After droping cols', df_res.shape)\n",
    "    ####\n",
    "        ###Remove rows with more then max_na in the rows\n",
    "    filter_list=df_res.isna().sum(axis=1)>=max_na\n",
    "    df_res=df_res[~filter_list]\n",
    "    print('After droping rows', df_res.shape)\n",
    "    \n",
    "    ###Remove categorical columns\n",
    "    #cateries that will be retained and 1-hot coded\n",
    "    cat_list=list_1_hot_encode\n",
    "    df_cat=df_res[cat_list]\n",
    "    df_cat=pd.get_dummies(df_cat, columns=df_cat.columns)\n",
    "    \n",
    "    drop_list=drop_list_cat\n",
    "    \n",
    "    df_res.drop(drop_list, axis=1, inplace=True)\n",
    "    df_res=pd.concat([df_res, df_cat], axis=1)\n",
    "    # select, re-encode, and engineer column values of mix.\n",
    "    PRAEGENDE=df_res['PRAEGENDE_JUGENDJAHRE']\n",
    "    CAMEO=df_res['CAMEO_INTL_2015']\n",
    "    CAMEO=CAMEO.fillna('XX')\n",
    "    #print(CAMEO.unique())\n",
    "    youth_decade=PRAEGENDE.apply(get_decade)\n",
    "    youth_decade=youth_decade.rename('youth_decade')\n",
    "    youth_mainstream=PRAEGENDE.apply(get_mainstream)\n",
    "    youth_mainstream=youth_mainstream.rename('youth_mainstream')\n",
    "    household_wealth=CAMEO.apply(get_1_digit)\n",
    "    household_wealth=household_wealth.rename('household_wealth')\n",
    "    household_type=CAMEO.apply(get_2_digit)\n",
    "    household_type=household_type.rename('household_type')\n",
    "    \n",
    "    drop_list=drop_list_mixed\n",
    "    \n",
    "    df_res.drop(drop_list, axis=1, inplace=True)\n",
    "    \n",
    "    df_mixed_attributes=pd.concat([household_wealth, household_type, youth_decade, youth_mainstream], axis=1)\n",
    "    df_res=pd.concat([df_res, df_mixed_attributes], axis=1)\n",
    "    ## Drop list after introducing 1-hot encoded variables\n",
    "    df_res.drop(drop_list_cols_final, axis=1, inplace=True)\n",
    "    \n",
    "    print('After categorical and mixed',df_res.shape)\n",
    "    # Return the cleaned dataframe.\n",
    "    return(df_res)\n",
    "    "
   ]
  },
  {
   "cell_type": "code",
   "execution_count": 45,
   "metadata": {},
   "outputs": [
    {
     "name": "stdout",
     "output_type": "stream",
     "text": [
      "initial shape (891221, 85)\n",
      "After introducing Nans (891221, 85)\n",
      "Rows having Nans after conversion 891078\n",
      "After droping cols (891221, 79)\n",
      "After droping rows (792286, 79)\n",
      "After categorical and mixed (792286, 68)\n"
     ]
    }
   ],
   "source": [
    "# lets test the function. It should deliver the same dataframe as azdias_hot_mixed\n",
    "azdias_data = pd.read_csv('Udacity_AZDIAS_Subset.csv', sep=';')\n",
    "azdias_data = clean_data(azdias_data, feat_info, drop_list_cols, max_na, list_1_hot_encode, drop_list_cat, drop_list_mixed, drop_list_cols_final)"
   ]
  },
  {
   "cell_type": "code",
   "execution_count": 46,
   "metadata": {},
   "outputs": [
    {
     "name": "stdout",
     "output_type": "stream",
     "text": [
      "Shape of manual pretreatment:  (792286, 68) Types: [dtype('float64') dtype('int64') dtype('uint8')]\n",
      "Shape of pre-treatment with function:  (792286, 68) Types:  [dtype('float64') dtype('int64') dtype('uint8')]\n"
     ]
    }
   ],
   "source": [
    "print('Shape of manual pretreatment: ',azdias_hot_mixed.shape, 'Types:', azdias_hot_mixed.dtypes.unique())\n",
    "print('Shape of pre-treatment with function: ', azdias_data.shape, 'Types: ', azdias_data.dtypes.unique())"
   ]
  },
  {
   "cell_type": "code",
   "execution_count": 47,
   "metadata": {},
   "outputs": [
    {
     "data": {
      "text/plain": [
       "set()"
      ]
     },
     "execution_count": 47,
     "metadata": {},
     "output_type": "execute_result"
    }
   ],
   "source": [
    "set(azdias_hot_mixed.columns)-set(azdias_data.columns)"
   ]
  },
  {
   "cell_type": "markdown",
   "metadata": {},
   "source": [
    "## Step 2: Feature Transformation\n",
    "\n",
    "### Step 2.1: Apply Feature Scaling\n",
    "\n",
    "Before we apply dimensionality reduction techniques to the data, we need to perform feature scaling so that the principal component vectors are not influenced by the natural differences in scale for features. Starting from this part of the project, you'll want to keep an eye on the [API reference page for sklearn](http://scikit-learn.org/stable/modules/classes.html) to help you navigate to all of the classes and functions that you'll need. In this substep, you'll need to check the following:\n",
    "\n",
    "- sklearn requires that data not have missing values in order for its estimators to work properly. So, before applying the scaler to your data, make sure that you've cleaned the DataFrame of the remaining missing values. This can be as simple as just removing all data points with missing data, or applying an [Imputer](http://scikit-learn.org/stable/modules/generated/sklearn.preprocessing.Imputer.html) to replace all missing values. You might also try a more complicated procedure where you temporarily remove missing values in order to compute the scaling parameters before re-introducing those missing values and applying imputation. Think about how much missing data you have and what possible effects each approach might have on your analysis, and justify your decision in the discussion section below.\n",
    "- For the actual scaling function, a [StandardScaler](http://scikit-learn.org/stable/modules/generated/sklearn.preprocessing.StandardScaler.html) instance is suggested, scaling each feature to mean 0 and standard deviation 1.\n",
    "- For these classes, you can make use of the `.fit_transform()` method to both fit a procedure to the data as well as apply the transformation to the data at the same time. Don't forget to keep the fit sklearn objects handy, since you'll be applying them to the customer demographics data towards the end of the project."
   ]
  },
  {
   "cell_type": "code",
   "execution_count": 48,
   "metadata": {},
   "outputs": [
    {
     "data": {
      "text/plain": [
       "array([0, 1, 2, 3, 4, 7])"
      ]
     },
     "execution_count": 48,
     "metadata": {},
     "output_type": "execute_result"
    }
   ],
   "source": [
    "# If you've not yet cleaned the dataset of all NaN values, then investigate and\n",
    "# do that now.\n",
    "# Lets check how many Nas we have in the data after the cleaning data function\n",
    "df_nan=azdias_data.isna().sum()/azdias_data.shape[0]*100\n",
    "df_nan.sort_values(ascending=True).astype(int).unique()"
   ]
  },
  {
   "cell_type": "code",
   "execution_count": 49,
   "metadata": {},
   "outputs": [
    {
     "data": {
      "text/plain": [
       "(619023, 68)"
      ]
     },
     "execution_count": 49,
     "metadata": {},
     "output_type": "execute_result"
    }
   ],
   "source": [
    "# now I remove the rows with nas\n",
    "azdias_data=azdias_data.dropna()\n",
    "azdias_data.shape"
   ]
  },
  {
   "cell_type": "code",
   "execution_count": 50,
   "metadata": {},
   "outputs": [],
   "source": [
    "# Apply feature scaling to the general population demographics data.\n",
    "from sklearn.preprocessing import StandardScaler\n",
    "std_scaler=StandardScaler().fit(azdias_data)\n",
    "X = std_scaler.transform(azdias_data)"
   ]
  },
  {
   "cell_type": "markdown",
   "metadata": {},
   "source": [
    "### Discussion 2.1: Apply Feature Scaling\n",
    "\n",
    "(Double-click this cell and replace this text with your own text, reporting your decisions regarding feature scaling.)\n",
    "#### I decided to use a standardized scaling of all features. For this I removed all \"nas\" (not a number) values. This implies some data loss but assures that I am not introducing some bias. This would be the case if  I would have decided to replace the na's by 0 for example."
   ]
  },
  {
   "cell_type": "markdown",
   "metadata": {},
   "source": [
    "### Step 2.2: Perform Dimensionality Reduction\n",
    "\n",
    "On your scaled data, you are now ready to apply dimensionality reduction techniques.\n",
    "\n",
    "- Use sklearn's [PCA](http://scikit-learn.org/stable/modules/generated/sklearn.decomposition.PCA.html) class to apply principal component analysis on the data, thus finding the vectors of maximal variance in the data. To start, you should not set any parameters (so all components are computed) or set a number of components that is at least half the number of features (so there's enough features to see the general trend in variability).\n",
    "- Check out the ratio of variance explained by each principal component as well as the cumulative variance explained. Try plotting the cumulative or sequential values using matplotlib's [`plot()`](https://matplotlib.org/api/_as_gen/matplotlib.pyplot.plot.html) function. Based on what you find, select a value for the number of transformed features you'll retain for the clustering part of the project.\n",
    "- Once you've made a choice for the number of components to keep, make sure you re-fit a PCA instance to perform the decided-on transformation."
   ]
  },
  {
   "cell_type": "code",
   "execution_count": 51,
   "metadata": {},
   "outputs": [],
   "source": [
    "# Apply PCA to the data.\n",
    "from sklearn.decomposition import PCA\n",
    "pca = PCA(30,random_state=0)\n",
    "X_pca = pca.fit_transform(X)"
   ]
  },
  {
   "cell_type": "code",
   "execution_count": 52,
   "metadata": {},
   "outputs": [
    {
     "data": {
      "text/plain": [
       "<matplotlib.legend.Legend at 0x7fcdf81ce780>"
      ]
     },
     "execution_count": 52,
     "metadata": {},
     "output_type": "execute_result"
    },
    {
     "data": {
      "image/png": "[encoded data removed]",
      "text/plain": [
       "<matplotlib.figure.Figure at 0x7fce541e2828>"
      ]
     },
     "metadata": {
      "needs_background": "light"
     },
     "output_type": "display_data"
    }
   ],
   "source": [
    "# Investigate the variance accounted for by each principal component.\n",
    "var=pca.explained_variance_ratio_\n",
    "cum_var=np.cumsum(var)\n",
    "%matplotlib inline\n",
    "fig, ax = plt.subplots()\n",
    "ax2=ax.twinx()\n",
    "ax.plot(var, label='var explained', color=\"green\",marker=\"o\")\n",
    "ax2.plot(cum_var, label='cumulative variance', color=\"blue\")\n",
    "ax2.set_ylabel(\"Cumulative Variance explained\",fontsize=12)\n",
    "ax.set_ylabel(\"Variance explained\",fontsize=12)\n",
    "ax.set_xlabel(\"PCA components\",fontsize=12)\n",
    "fig.legend()"
   ]
  },
  {
   "cell_type": "code",
   "execution_count": 53,
   "metadata": {},
   "outputs": [],
   "source": [
    "# Re-apply PCA to the data while selecting for number of components to retain.\n",
    "# the graph shows that with 4 components we can explain between 40% and 50% of the variance\n",
    "# The less principal components, the easier it is to interpret\n",
    "pca = PCA(4, random_state=0)\n",
    "pca.fit(X)\n",
    "X_pca_transform = pca.transform(X)"
   ]
  },
  {
   "cell_type": "markdown",
   "metadata": {},
   "source": [
    "### Discussion 2.2: Perform Dimensionality Reduction\n",
    "\n",
    "(Double-click this cell and replace this text with your own text, reporting your findings and decisions regarding dimensionality reduction. How many principal components / transformed features are you retaining for the next step of the analysis?)\n",
    "\n",
    "##### For my analysis I decide to work with 5 principal components. This 5 components explain about 50% of the total variance, which is considerble given that the intial number of columns were 68.  The basis of this analysis was the graph of the variance explaned as a function of PCA-component."
   ]
  },
  {
   "cell_type": "markdown",
   "metadata": {},
   "source": [
    "### Step 2.3: Interpret Principal Components\n",
    "\n",
    "Now that we have our transformed principal components, it's a nice idea to check out the weight of each variable on the first few components to see if they can be interpreted in some fashion.\n",
    "\n",
    "As a reminder, each principal component is a unit vector that points in the direction of highest variance (after accounting for the variance captured by earlier principal components). The further a weight is from zero, the more the principal component is in the direction of the corresponding feature. If two features have large weights of the same sign (both positive or both negative), then increases in one tend expect to be associated with increases in the other. To contrast, features with different signs can be expected to show a negative correlation: increases in one variable should result in a decrease in the other.\n",
    "\n",
    "- To investigate the features, you should map each weight to their corresponding feature name, then sort the features according to weight. The most interesting features for each principal component, then, will be those at the beginning and end of the sorted list. Use the data dictionary document to help you understand these most prominent features, their relationships, and what a positive or negative value on the principal component might indicate.\n",
    "- You should investigate and interpret feature associations from the first three principal components in this substep. To help facilitate this, you should write a function that you can call at any time to print the sorted list of feature weights, for the *i*-th principal component. This might come in handy in the next step of the project, when you interpret the tendencies of the discovered clusters."
   ]
  },
  {
   "cell_type": "code",
   "execution_count": 54,
   "metadata": {},
   "outputs": [
    {
     "data": {
      "text/html": [
       "<div>\n",
       "<style scoped>\n",
       "    .dataframe tbody tr th:only-of-type {\n",
       "        vertical-align: middle;\n",
       "    }\n",
       "\n",
       "    .dataframe tbody tr th {\n",
       "        vertical-align: top;\n",
       "    }\n",
       "\n",
       "    .dataframe thead th {\n",
       "        text-align: right;\n",
       "    }\n",
       "</style>\n",
       "<table border=\"1\" class=\"dataframe\">\n",
       "  <thead>\n",
       "    <tr style=\"text-align: right;\">\n",
       "      <th></th>\n",
       "      <th>component</th>\n",
       "      <th>col names</th>\n",
       "      <th>weights</th>\n",
       "      <th>Positive?</th>\n",
       "    </tr>\n",
       "  </thead>\n",
       "  <tbody>\n",
       "    <tr>\n",
       "      <th>42</th>\n",
       "      <td>1</td>\n",
       "      <td>MOBI_REGIO</td>\n",
       "      <td>0.242789</td>\n",
       "      <td>False</td>\n",
       "    </tr>\n",
       "    <tr>\n",
       "      <th>32</th>\n",
       "      <td>1</td>\n",
       "      <td>KBA05_ANTG1</td>\n",
       "      <td>0.228799</td>\n",
       "      <td>False</td>\n",
       "    </tr>\n",
       "    <tr>\n",
       "      <th>46</th>\n",
       "      <td>1</td>\n",
       "      <td>PLZ8_ANTG1</td>\n",
       "      <td>0.225265</td>\n",
       "      <td>False</td>\n",
       "    </tr>\n",
       "  </tbody>\n",
       "</table>\n",
       "</div>"
      ],
      "text/plain": [
       "    component    col names   weights  Positive?\n",
       "42          1   MOBI_REGIO  0.242789      False\n",
       "32          1  KBA05_ANTG1  0.228799      False\n",
       "46          1   PLZ8_ANTG1  0.225265      False"
      ]
     },
     "execution_count": 54,
     "metadata": {},
     "output_type": "execute_result"
    }
   ],
   "source": [
    "# Map weights for the first principal component to corresponding feature names\n",
    "# and then print the linked values, sorted by weight.\n",
    "# HINT: Try defining a function here or in a new cell that you can reuse in the\n",
    "# other cells.\n",
    "col_names=azdias_data.columns\n",
    "def weight_analysis(pca, component):\n",
    "    res=pca.components_[component-1]\n",
    "    positive=res>0\n",
    "    res=np.abs(res)\n",
    "    cols=col_names\n",
    "    df_res=pd.DataFrame({'component':component, 'col names':cols,'weights':res, 'Positive?':positive})\n",
    "    df_res=df_res.sort_values(by='weights', ascending=False)\n",
    "    return(df_res)\n",
    "\n",
    "weight=weight_analysis(pca, 1)\n",
    "weight.head(3)"
   ]
  },
  {
   "cell_type": "code",
   "execution_count": 55,
   "metadata": {},
   "outputs": [
    {
     "data": {
      "text/html": [
       "<div>\n",
       "<style scoped>\n",
       "    .dataframe tbody tr th:only-of-type {\n",
       "        vertical-align: middle;\n",
       "    }\n",
       "\n",
       "    .dataframe tbody tr th {\n",
       "        vertical-align: top;\n",
       "    }\n",
       "\n",
       "    .dataframe thead th {\n",
       "        text-align: right;\n",
       "    }\n",
       "</style>\n",
       "<table border=\"1\" class=\"dataframe\">\n",
       "  <thead>\n",
       "    <tr style=\"text-align: right;\">\n",
       "      <th></th>\n",
       "      <th>component</th>\n",
       "      <th>col names</th>\n",
       "      <th>weights</th>\n",
       "      <th>Positive?</th>\n",
       "    </tr>\n",
       "  </thead>\n",
       "  <tbody>\n",
       "    <tr>\n",
       "      <th>11</th>\n",
       "      <td>2</td>\n",
       "      <td>SEMIO_REL</td>\n",
       "      <td>0.282184</td>\n",
       "      <td>False</td>\n",
       "    </tr>\n",
       "    <tr>\n",
       "      <th>16</th>\n",
       "      <td>2</td>\n",
       "      <td>SEMIO_KULT</td>\n",
       "      <td>0.274748</td>\n",
       "      <td>False</td>\n",
       "    </tr>\n",
       "    <tr>\n",
       "      <th>15</th>\n",
       "      <td>2</td>\n",
       "      <td>SEMIO_ERL</td>\n",
       "      <td>0.273186</td>\n",
       "      <td>True</td>\n",
       "    </tr>\n",
       "  </tbody>\n",
       "</table>\n",
       "</div>"
      ],
      "text/plain": [
       "    component   col names   weights  Positive?\n",
       "11          2   SEMIO_REL  0.282184      False\n",
       "16          2  SEMIO_KULT  0.274748      False\n",
       "15          2   SEMIO_ERL  0.273186       True"
      ]
     },
     "execution_count": 55,
     "metadata": {},
     "output_type": "execute_result"
    }
   ],
   "source": [
    "# Map weights for the second principal component to corresponding feature names\n",
    "# and then print the linked values, sorted by weight.\n",
    "weight=weight_analysis(pca, 2)\n",
    "weight.head(3)"
   ]
  },
  {
   "cell_type": "code",
   "execution_count": 56,
   "metadata": {
    "scrolled": true
   },
   "outputs": [
    {
     "data": {
      "text/html": [
       "<div>\n",
       "<style scoped>\n",
       "    .dataframe tbody tr th:only-of-type {\n",
       "        vertical-align: middle;\n",
       "    }\n",
       "\n",
       "    .dataframe tbody tr th {\n",
       "        vertical-align: top;\n",
       "    }\n",
       "\n",
       "    .dataframe thead th {\n",
       "        text-align: right;\n",
       "    }\n",
       "</style>\n",
       "<table border=\"1\" class=\"dataframe\">\n",
       "  <thead>\n",
       "    <tr style=\"text-align: right;\">\n",
       "      <th></th>\n",
       "      <th>component</th>\n",
       "      <th>col names</th>\n",
       "      <th>weights</th>\n",
       "      <th>Positive?</th>\n",
       "    </tr>\n",
       "  </thead>\n",
       "  <tbody>\n",
       "    <tr>\n",
       "      <th>55</th>\n",
       "      <td>3</td>\n",
       "      <td>ANREDE_KZ_1</td>\n",
       "      <td>0.312632</td>\n",
       "      <td>True</td>\n",
       "    </tr>\n",
       "    <tr>\n",
       "      <th>56</th>\n",
       "      <td>3</td>\n",
       "      <td>ANREDE_KZ_2</td>\n",
       "      <td>0.312632</td>\n",
       "      <td>False</td>\n",
       "    </tr>\n",
       "    <tr>\n",
       "      <th>13</th>\n",
       "      <td>3</td>\n",
       "      <td>SEMIO_VERT</td>\n",
       "      <td>0.297373</td>\n",
       "      <td>True</td>\n",
       "    </tr>\n",
       "  </tbody>\n",
       "</table>\n",
       "</div>"
      ],
      "text/plain": [
       "    component    col names   weights  Positive?\n",
       "55          3  ANREDE_KZ_1  0.312632       True\n",
       "56          3  ANREDE_KZ_2  0.312632      False\n",
       "13          3   SEMIO_VERT  0.297373       True"
      ]
     },
     "execution_count": 56,
     "metadata": {},
     "output_type": "execute_result"
    }
   ],
   "source": [
    "# Map weights for the third principal component to corresponding feature names\n",
    "# and then print the linked values, sorted by weight.\n",
    "weight=weight_analysis(pca, 3)\n",
    "weight.head(3)"
   ]
  },
  {
   "cell_type": "markdown",
   "metadata": {},
   "source": [
    "### Discussion 2.3: Interpret Principal Components\n",
    "\n",
    "(Double-click this cell and replace this text with your own text, reporting your observations from detailed investigation of the first few principal components generated. Can we interpret positive and negative values from them in a meaningful way?)\n",
    "\n",
    "\n",
    "#### The main contributors to the first component  are MOBI_REGIO, KBA05_ANTG1, and PLZ8_ANTG1. They describe the mobility (from high to low), and the share of 1-2 family homes in the microcell (low to high). The higher the number of 1-2 family homes the richer the area. To summarize: if a person is strongly positive in the first component; he or she has a high mobility and lives in a microcell with a lower share of 1-2 family housholds.\n",
    "\n",
    "#### The main contributors to the second component  are SEMIO_REL, SEMIO_KULT, SEMIO_ERL. The three tend to describe the personality (high to low): if the person is religious oriented (REL), to culture (KULT), or experience oriented (ERL). The orientation towards religion and experiences are opposed.To summarize: if a person is strongly positive in the second component; he or she has a low affinity to experiences and a high affinity to culture or religion.\n",
    "\n",
    "#### The main contributors to the third component are ANREDE_KZ_2, ANREDE_KZ_1, SEMIO_VERT. Interestingly this component relates to the sex of the person: male  ( ANREDE_KZ_1) and female are opposed (ANREDE_KZ_2) as would be expected. A person that is more dreamful (SEMIO_VERT, from high to low) is also represented in this vector. To summarize: if a person is strongly positive in the third component; he or she is most probably male.\n",
    "\n",
    "#### To summarize the first 3 principle components summarize the information concerning the personality and rough age, the sex and the houshold situation. This is quite enlightning, since it gives us  the very first information where we should focalise when doing the clustering."
   ]
  },
  {
   "cell_type": "markdown",
   "metadata": {},
   "source": [
    "\n",
    "## Step 3: Clustering\n",
    "\n",
    "### Step 3.1: Apply Clustering to General Population\n",
    "\n",
    "You've assessed and cleaned the demographics data, then scaled and transformed them. Now, it's time to see how the data clusters in the principal components space. In this substep, you will apply k-means clustering to the dataset and use the average within-cluster distances from each point to their assigned cluster's centroid to decide on a number of clusters to keep.\n",
    "\n",
    "- Use sklearn's [KMeans](http://scikit-learn.org/stable/modules/generated/sklearn.cluster.KMeans.html#sklearn.cluster.KMeans) class to perform k-means clustering on the PCA-transformed data.\n",
    "- Then, compute the average difference from each point to its assigned cluster's center. **Hint**: The KMeans object's `.score()` method might be useful here, but note that in sklearn, scores tend to be defined so that larger is better. Try applying it to a small, toy dataset, or use an internet search to help your understanding.\n",
    "- Perform the above two steps for a number of different cluster counts. You can then see how the average distance decreases with an increasing number of clusters. However, each additional cluster provides a smaller net benefit. Use this fact to select a final number of clusters in which to group the data. **Warning**: because of the large size of the dataset, it can take a long time for the algorithm to resolve. The more clusters to fit, the longer the algorithm will take. You should test for cluster counts through at least 10 clusters to get the full picture, but you shouldn't need to test for a number of clusters above about 30.\n",
    "- Once you've selected a final number of clusters to use, re-fit a KMeans instance to perform the clustering operation. Make sure that you also obtain the cluster assignments for the general demographics data, since you'll be using them in the final Step 3.3."
   ]
  },
  {
   "cell_type": "code",
   "execution_count": 57,
   "metadata": {},
   "outputs": [],
   "source": [
    "# Over a number of different cluster counts...\n",
    "from sklearn.cluster import KMeans\n",
    "from sklearn.metrics.pairwise import euclidean_distances\n",
    "centers_v=[]\n",
    "avg_dis=[]\n",
    "for centers in range(2,15, 1): \n",
    "    \n",
    "    #fit kmeans to get the labels\n",
    "    kmeans = KMeans(centers, random_state=0)\n",
    "    # run k-means clustering on the data and...\n",
    "    kmeans.fit(X_pca_transform)\n",
    "    # compute the average within-cluster distances.\n",
    "    avg_dis.append(-1*kmeans.score(X_pca_transform).mean()/centers)\n",
    "    centers_v.append(centers)"
   ]
  },
  {
   "cell_type": "code",
   "execution_count": 58,
   "metadata": {},
   "outputs": [
    {
     "data": {
      "text/plain": [
       "Text(0.5,0,'number of centroids')"
      ]
     },
     "execution_count": 58,
     "metadata": {},
     "output_type": "execute_result"
    },
    {
     "data": {
      "image/png": "[encoded data removed]",
      "text/plain": [
       "<matplotlib.figure.Figure at 0x7fcdf81e7d30>"
      ]
     },
     "metadata": {
      "needs_background": "light"
     },
     "output_type": "display_data"
    }
   ],
   "source": [
    "# Investigate the change in within-cluster distance across number of clusters.\n",
    "# HINT: Use matplotlib's plot function to visualize this relationship.\n",
    "%matplotlib inline\n",
    "plt.plot(centers_v, avg_dis, color=\"green\")\n",
    "plt.ylabel(\"average distance to centroid\",fontsize=12)\n",
    "plt.xlabel(\"number of centroids\",fontsize=12)"
   ]
  },
  {
   "cell_type": "code",
   "execution_count": 59,
   "metadata": {},
   "outputs": [
    {
     "data": {
      "text/plain": [
       "KMeans(algorithm='auto', copy_x=True, init='k-means++', max_iter=300,\n",
       "    n_clusters=4, n_init=10, n_jobs=1, precompute_distances='auto',\n",
       "    random_state=0, tol=0.0001, verbose=0)"
      ]
     },
     "execution_count": 59,
     "metadata": {},
     "output_type": "execute_result"
    }
   ],
   "source": [
    "# Re-fit the k-means model with the selected number of clusters and obtain\n",
    "# cluster predictions for the general population demographics data.\n",
    "kmeans = KMeans(4, random_state=0)\n",
    "kmeans.fit(X_pca_transform)"
   ]
  },
  {
   "cell_type": "markdown",
   "metadata": {},
   "source": [
    "### Discussion 3.1: Apply Clustering to General Population\n",
    "\n",
    "(Double-click this cell and replace this text with your own text, reporting your findings and decisions regarding clustering. Into how many clusters have you decided to segment the population?)\n",
    "\n",
    "#### The graph above shows that for more than 5 centroids the normalized distance (average distance divided by the number of centroids) starts to flatten out.  Of course, the more centroids the average distance decreases monotonously, but the normalization with the number of centroids allows a fair comparison. Therefore I decide to work with 5 centroids in the following."
   ]
  },
  {
   "cell_type": "markdown",
   "metadata": {},
   "source": [
    "### Step 3.2: Apply All Steps to the Customer Data\n",
    "\n",
    "Now that you have clusters and cluster centers for the general population, it's time to see how the customer data maps on to those clusters. Take care to not confuse this for re-fitting all of the models to the customer data. Instead, you're going to use the fits from the general population to clean, transform, and cluster the customer data. In the last step of the project, you will interpret how the general population fits apply to the customer data.\n",
    "\n",
    "- Don't forget when loading in the customers data, that it is semicolon (`;`) delimited.\n",
    "- Apply the same feature wrangling, selection, and engineering steps to the customer demographics using the `clean_data()` function you created earlier. (You can assume that the customer demographics data has similar meaning behind missing data patterns as the general demographics data.)\n",
    "- Use the sklearn objects from the general demographics data, and apply their transformations to the customers data. That is, you should not be using a `.fit()` or `.fit_transform()` method to re-fit the old objects, nor should you be creating new sklearn objects! Carry the data through the feature scaling, PCA, and clustering steps, obtaining cluster assignments for all of the data in the customer demographics data."
   ]
  },
  {
   "cell_type": "code",
   "execution_count": 60,
   "metadata": {},
   "outputs": [],
   "source": [
    "# Load in the customer demographics data.\n",
    "customers = pd.read_csv('Udacity_CUSTOMERS_Subset.csv', sep=';')\n",
    "#Lets load the data again to be sure we treat both sets with exactly the same procedure\n",
    "azdias = pd.read_csv('Udacity_AZDIAS_Subset.csv', sep=';')"
   ]
  },
  {
   "cell_type": "code",
   "execution_count": 61,
   "metadata": {},
   "outputs": [
    {
     "name": "stdout",
     "output_type": "stream",
     "text": [
      "initial shape (891221, 85)\n",
      "After introducing Nans (891221, 85)\n",
      "Rows having Nans after conversion 891078\n",
      "After droping cols (891221, 79)\n",
      "After droping rows (792286, 79)\n",
      "After categorical and mixed (792286, 68)\n",
      "initial shape (191652, 85)\n",
      "After introducing Nans (191652, 85)\n",
      "Rows having Nans after conversion 191325\n",
      "After droping cols (191652, 79)\n",
      "After droping rows (140897, 79)\n",
      "After categorical and mixed (140897, 68)\n"
     ]
    }
   ],
   "source": [
    "# Apply preprocessing, feature transformation, and clustering from the general\n",
    "# demographics onto the customer data, obtaining cluster predictions for the\n",
    "# customer demographics data.\n",
    "df_population=clean_data(azdias,  feat_info, drop_list_cols, max_na, list_1_hot_encode, drop_list_cat, drop_list_mixed, drop_list_cols_final)\n",
    "df_customers=clean_data(customers,  feat_info, drop_list_cols, max_na, list_1_hot_encode, drop_list_cat, drop_list_mixed, drop_list_cols_final)\n",
    "#standardize using the standard scaler from §3.1\n",
    "df_population=df_population.dropna()\n",
    "df_customers=df_customers.dropna()\n",
    "X_population = std_scaler.transform(df_population)\n",
    "X_customers = std_scaler.transform(df_customers)\n",
    "#Use the same pca to transform the data\n",
    "X_pca_population = pca.transform(X_population)\n",
    "X_pca_customers = pca.transform(X_customers)"
   ]
  },
  {
   "cell_type": "code",
   "execution_count": 62,
   "metadata": {},
   "outputs": [],
   "source": [
    "# predict using the kmeans fitted in §3.1\n",
    "labels_population=pd.DataFrame({'labels':kmeans.predict(X_pca_population)})\n",
    "labels_customers=pd.DataFrame({'labels':kmeans.predict(X_pca_customers)})"
   ]
  },
  {
   "cell_type": "markdown",
   "metadata": {},
   "source": [
    "### Step 3.3: Compare Customer Data to Demographics Data\n",
    "\n",
    "At this point, you have clustered data based on demographics of the general population of Germany, and seen how the customer data for a mail-order sales company maps onto those demographic clusters. In this final substep, you will compare the two cluster distributions to see where the strongest customer base for the company is.\n",
    "\n",
    "Consider the proportion of persons in each cluster for the general population, and the proportions for the customers. If we think the company's customer base to be universal, then the cluster assignment proportions should be fairly similar between the two. If there are only particular segments of the population that are interested in the company's products, then we should see a mismatch from one to the other. If there is a higher proportion of persons in a cluster for the customer data compared to the general population (e.g. 5% of persons are assigned to a cluster for the general population, but 15% of the customer data is closest to that cluster's centroid) then that suggests the people in that cluster to be a target audience for the company. On the other hand, the proportion of the data in a cluster being larger in the general population than the customer data (e.g. only 2% of customers closest to a population centroid that captures 6% of the data) suggests that group of persons to be outside of the target demographics.\n",
    "\n",
    "Take a look at the following points in this step:\n",
    "\n",
    "- Compute the proportion of data points in each cluster for the general population and the customer data. Visualizations will be useful here: both for the individual dataset proportions, but also to visualize the ratios in cluster representation between groups. Seaborn's [`countplot()`](https://seaborn.pydata.org/generated/seaborn.countplot.html) or [`barplot()`](https://seaborn.pydata.org/generated/seaborn.barplot.html) function could be handy.\n",
    "  - Recall the analysis you performed in step 1.1.3 of the project, where you separated out certain data points from the dataset if they had more than a specified threshold of missing values. If you found that this group was qualitatively different from the main bulk of the data, you should treat this as an additional data cluster in this analysis. Make sure that you account for the number of data points in this subset, for both the general population and customer datasets, when making your computations!\n",
    "- Which cluster or clusters are overrepresented in the customer dataset compared to the general population? Select at least one such cluster and infer what kind of people might be represented by that cluster. Use the principal component interpretations from step 2.3 or look at additional components to help you make this inference. Alternatively, you can use the `.inverse_transform()` method of the PCA and StandardScaler objects to transform centroids back to the original data space and interpret the retrieved values directly.\n",
    "- Perform a similar investigation for the underrepresented clusters. Which cluster or clusters are underrepresented in the customer dataset compared to the general population, and what kinds of people are typified by these clusters?"
   ]
  },
  {
   "cell_type": "code",
   "execution_count": 63,
   "metadata": {},
   "outputs": [],
   "source": [
    "# Compare the proportion of data in each cluster for the customer data to the\n",
    "# proportion of data in each cluster for the general population.\n",
    "# However for the normalization I take the total length of the data before removing the rows with NaNs \n",
    "labels_population_prop=pd.value_counts(labels_population['labels'].values, sort=False)/azdias.shape[0]\n",
    "labels_customers_prop=pd.value_counts(labels_customers['labels'].values, sort=False)/customers.shape[0]\n",
    "\n",
    "# lets add as a final cluster,those entries who were removed in the process of cleaning the data \n",
    "labels_customers_prop=labels_customers_prop.append(pd.Series([1-labels_customers_prop.sum()], index=[4]))\n",
    "labels_population_prop=labels_population_prop.append(pd.Series([1-labels_population_prop.sum()], index=[4]))"
   ]
  },
  {
   "cell_type": "code",
   "execution_count": 64,
   "metadata": {},
   "outputs": [
    {
     "data": {
      "text/plain": [
       "<matplotlib.legend.Legend at 0x7fcdf3e37cf8>"
      ]
     },
     "execution_count": 64,
     "metadata": {},
     "output_type": "execute_result"
    },
    {
     "data": {
      "image/png": "[encoded data removed]",
      "text/plain": [
       "<matplotlib.figure.Figure at 0x7fcdf3e53d30>"
      ]
     },
     "metadata": {
      "needs_background": "light"
     },
     "output_type": "display_data"
    }
   ],
   "source": [
    "fig, ax = plt.subplots( figsize=(10,2.5), dpi=100, sharex=True, sharey=True)\n",
    "ax.plot(labels_population_prop, color = 'g', label='Population')\n",
    "ax.plot(labels_customers_prop, color='b', label='Customers')\n",
    "ax.set_title('Population and Customer clustering')\n",
    "ax.set_xlabel('Clusters')\n",
    "ax.set_ylabel('Proportion of persons in the clusters')\n",
    "ax.legend()"
   ]
  },
  {
   "cell_type": "code",
   "execution_count": 65,
   "metadata": {},
   "outputs": [
    {
     "name": "stdout",
     "output_type": "stream",
     "text": [
      "[-2 -1  1  0]\n"
     ]
    }
   ],
   "source": [
    "# What kinds of people are part of a cluster that is overrepresented in the\n",
    "# customer data compared to the general population?\n",
    "\n",
    "# The cluster with label 1 is overrepresented in the customer set as compared to the population set \n",
    "# this cluster is mainly projected in the principal component 1, in a negative direcion. \n",
    "print(kmeans.cluster_centers_.astype(int)[3])"
   ]
  },
  {
   "cell_type": "markdown",
   "metadata": {},
   "source": [
    "##### The clusters labelled  3 are overrepresented in the customer database. It is negative on the first two principal vectors and positive in the third. This means that it represents persons: that have low mobility and are situated in microcells with hig share of 1-2 family homes (first vector), that are interested by experiecens and that are mostly male."
   ]
  },
  {
   "cell_type": "code",
   "execution_count": 66,
   "metadata": {},
   "outputs": [
    {
     "name": "stdout",
     "output_type": "stream",
     "text": [
      "[ 3 -2 -1  0]\n"
     ]
    }
   ],
   "source": [
    "# What kinds of people are part of a cluster that is underrepresented in the\n",
    "# customer data compared to the general population?\n",
    "\n",
    "# the cluster labeled as 3 is underrepresented in the customer set compared to the population set\n",
    "# this cluster is mainly projected on the second principal component \n",
    "print(kmeans.cluster_centers_.astype(int)[1])"
   ]
  },
  {
   "cell_type": "markdown",
   "metadata": {},
   "source": [
    "\n",
    "\n",
    "#### The cluster labelled as 1 is underrepresented in the customer dataset: it is  positve in the 1´first and negative in the second and thrid components. Following our previous analysis of the first components, this cluster includes people that have high mobiltity and  are situated in microcells with low share of 1-2 family homes, whose interests are mostly oriented towards experiences, and who are mostly female."
   ]
  },
  {
   "cell_type": "markdown",
   "metadata": {},
   "source": [
    "### Discussion 3.3: Compare Customer Data to Demographics Data\n",
    "\n",
    "(Double-click this cell and replace this text with your own text, reporting findings and conclusions from the clustering analysis. Can we describe segments of the population that are relatively popular with the mail-order company, or relatively unpopular with the company?)\n",
    "\n",
    "### Analysis of Na removal\n",
    "#### Our data cleaning procedure removed between 20 and 3% of the data. This is rather a large amount of data, however this stringent removal of entries and columns with too many Nas, allows us to make an analysis without any bias. For the future, it would be interesting to progressively reintroduce the data that were removed, and check if the clustering changes.\n",
    "\n",
    "### Analysis of Population data\n",
    "#### The last plot shows that the clusters of persons are almost equivalent in weight: the green line in the graph above is rather flat. This is good news because it shows that the overall set of people was taken from the whole population, meaning that we can interpret this set as a statsitically relavant set from the complete population ( lets recall that Germany has about 80 million inhabitants), and that we did not introduce some bias by only focusing on a particular population cluster.\n",
    "\n",
    "### Analysis of the Customer data\n",
    "#### With our analysis we could find that cluster \"3\"  that is over and cluster \"1\" are underrepresented in the customer dataset when compared to the overall population data. With our analysis, we can say that the \"typical\" customer is a male person, living in a not so dense area, which has low mobilty and intereted by experience. This might not seem such a big suprise, since Bertteslsman sells books, and most probably the  customers are educated persons, living in rich suburbian areas. Maybe more surprising was to find that females, more oriented towards experiences rather than culture, and living more dense are underrepresented in the customer base. Surely here there is some room for improvement: a marketing campaign could be started that adresses active women in the cities, pointing to the offerings of sport/outdoor content. Such a campaign targeting these persons appears to be a wise move towards expanding the market."
   ]
  },
  {
   "cell_type": "markdown",
   "metadata": {},
   "source": [
    "> Congratulations on making it this far in the project! Before you finish, make sure to check through the entire notebook from top to bottom to make sure that your analysis follows a logical flow and all of your findings are documented in **Discussion** cells. Once you've checked over all of your work, you should export the notebook as an HTML document to submit for evaluation. You can do this from the menu, navigating to **File -> Download as -> HTML (.html)**. You will submit both that document and this notebook for your project submission."
   ]
  },
  {
   "cell_type": "code",
   "execution_count": null,
   "metadata": {},
   "outputs": [],
   "source": []
  }
 ],
 "metadata": {
  "kernelspec": {
   "display_name": "Python 3",
   "language": "python",
   "name": "python3"
  },
  "language_info": {
   "codemirror_mode": {
    "name": "ipython",
    "version": 3
   },
   "file_extension": ".py",
   "mimetype": "text/x-python",
   "name": "python",
   "nbconvert_exporter": "python",
   "pygments_lexer": "ipython3",
   "version": "3.6.3"
  }
 },
 "nbformat": 4,
 "nbformat_minor": 2
}
